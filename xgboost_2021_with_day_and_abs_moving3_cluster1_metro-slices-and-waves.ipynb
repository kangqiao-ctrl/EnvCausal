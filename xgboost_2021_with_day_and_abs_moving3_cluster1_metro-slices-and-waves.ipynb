{
 "cells": [
  {
   "cell_type": "code",
   "execution_count": 1,
   "metadata": {
    "extensions": {
     "jupyter_dashboards": {
      "version": 1,
      "views": {
       "grid_default": {},
       "report_default": {
        "hidden": true
       }
      }
     }
    }
   },
   "outputs": [],
   "source": [
    "import pandas as pd\n",
    "import numpy as np\n",
    "import matplotlib.pyplot as plt"
   ]
  },
  {
   "cell_type": "code",
   "execution_count": 2,
   "metadata": {},
   "outputs": [],
   "source": [
    "from sklearn.metrics import mean_squared_error, r2_score\n",
    "from sklearn.model_selection import train_test_split, KFold, GridSearchCV, cross_val_score\n",
    "import xgboost as xgb\n",
    "from sklearn.inspection import permutation_importance\n",
    "from xgboost import plot_importance"
   ]
  },
  {
   "cell_type": "code",
   "execution_count": 3,
   "metadata": {},
   "outputs": [],
   "source": [
    "import datetime"
   ]
  },
  {
   "cell_type": "code",
   "execution_count": 4,
   "metadata": {
    "extensions": {
     "jupyter_dashboards": {
      "version": 1,
      "views": {
       "grid_default": {},
       "report_default": {
        "hidden": true
       }
      }
     }
    }
   },
   "outputs": [],
   "source": [
    "pd.options.display.max_rows = 999\n",
    "pd.options.display.max_columns = 999"
   ]
  },
  {
   "cell_type": "code",
   "execution_count": 8,
   "metadata": {
    "extensions": {
     "jupyter_dashboards": {
      "version": 1,
      "views": {
       "grid_default": {},
       "report_default": {
        "hidden": true
       }
      }
     }
    }
   },
   "outputs": [],
   "source": [
    "surge_1 = pd.read_csv('../../covid-proj/latest_dataset/ts/3day/segments/c1/df_m3_c1_surge_1.csv')\n",
    "drop_1 = pd.read_csv('../../covid-proj/latest_dataset/ts/3day/segments/c1/df_m3_c1_drop_1.csv')\n",
    "surge_2 = pd.read_csv('../../covid-proj/latest_dataset/ts/3day/segments/c1/df_m3_c1_surge_2.csv')\n",
    "drop_2 = pd.read_csv('../../covid-proj/latest_dataset/ts/3day/segments/c1/df_m3_c1_drop_2.csv')\n",
    "wave_1 = pd.read_csv('../../covid-proj/latest_dataset/ts/3day/segments/c1/df_m3_c1_wave_1.csv')\n",
    "wave_2 = pd.read_csv('../../covid-proj/latest_dataset/ts/3day/segments/c1/df_m3_c1_wave_2.csv')"
   ]
  },
  {
   "cell_type": "markdown",
   "metadata": {},
   "source": [
    "# Cluster 1 Surge 1 Model"
   ]
  },
  {
   "cell_type": "code",
   "execution_count": 9,
   "metadata": {},
   "outputs": [],
   "source": [
    "surge_1_X = surge_1.drop(columns = ['MORB%','Case','log(Case+1)','log(MORB%+1)','city','date','Unnamed: 0', 'Unnamed: 0.1'])\n",
    "surge_1_Y = surge_1['Case'].copy()"
   ]
  },
  {
   "cell_type": "code",
   "execution_count": 10,
   "metadata": {},
   "outputs": [],
   "source": [
    "init_params = {'learning_rate': 0.1, 'n_estimators':50 ,'max_depth': 4, 'min_child_weight': 9, \n",
    "                    'subsample': 0.8, 'colsample_bytree': 0.8, 'gamma': 0, 'reg_alpha': 0, 'reg_lambda': 1}"
   ]
  },
  {
   "cell_type": "code",
   "execution_count": 73,
   "metadata": {},
   "outputs": [],
   "source": [
    "cv_params = {'n_estimators':range(50,500,50)}"
   ]
  },
  {
   "cell_type": "code",
   "execution_count": 81,
   "metadata": {},
   "outputs": [],
   "source": [
    "cv_params = {'n_estimators':[10,20,30,40,50,60,70,80,90,100]}"
   ]
  },
  {
   "cell_type": "code",
   "execution_count": 11,
   "metadata": {},
   "outputs": [],
   "source": [
    "cv_params = {'max_depth': range(2,6,1), 'min_child_weight': range(6,10,1)}"
   ]
  },
  {
   "cell_type": "code",
   "execution_count": 256,
   "metadata": {},
   "outputs": [],
   "source": [
    "cv_params = {'max_depth': [1,2,3,4], 'min_child_weight':[12,13,14,15,16] }"
   ]
  },
  {
   "cell_type": "code",
   "execution_count": 94,
   "metadata": {},
   "outputs": [],
   "source": [
    "cv_params = {'gamma': [0,0.1, 0.2, 0.3, 0.4, 0.5, 0.6,0.7,0.8,0.9,1]}"
   ]
  },
  {
   "cell_type": "code",
   "execution_count": 96,
   "metadata": {},
   "outputs": [],
   "source": [
    "cv_params = {'subsample': [0,0.1,0.2,0.3,0.4,0.5,0.6, 0.7, 0.8, 0.9,1], 'colsample_bytree': [0,0.1,0.2,0.3,0.4,0.5,0.6, 0.7, 0.8, 0.9,1]}"
   ]
  },
  {
   "cell_type": "code",
   "execution_count": 99,
   "metadata": {},
   "outputs": [],
   "source": [
    "cv_params = {'reg_alpha': [0,0.05, 0.1, 1, 2, 3], 'reg_lambda': [0,0.05, 0.1, 1, 2, 3]}"
   ]
  },
  {
   "cell_type": "code",
   "execution_count": 102,
   "metadata": {},
   "outputs": [],
   "source": [
    "cv_params = {'learning_rate': [0.01, 0.03,0.05, 0.07, 0.1, 0.2,0.3]}"
   ]
  },
  {
   "cell_type": "code",
   "execution_count": 12,
   "metadata": {},
   "outputs": [
    {
     "name": "stdout",
     "output_type": "stream",
     "text": [
      "Fitting 5 folds for each of 16 candidates, totalling 80 fits\n"
     ]
    },
    {
     "name": "stderr",
     "output_type": "stream",
     "text": [
      "[Parallel(n_jobs=-1)]: Using backend LokyBackend with 8 concurrent workers.\n",
      "[Parallel(n_jobs=-1)]: Done  34 tasks      | elapsed:    7.8s\n"
     ]
    },
    {
     "name": "stdout",
     "output_type": "stream",
     "text": [
      "[13:54:35] WARNING: C:/Users/Administrator/workspace/xgboost-win64_release_1.3.0/src/learner.cc:541: \n",
      "Parameters: { silent } might not be used.\n",
      "\n",
      "  This may not be accurate due to some parameters are only used in language bindings but\n",
      "  passed down to XGBoost core.  Or some parameters are not used but slip through this\n",
      "  verification. Please open an issue if you find above cases.\n",
      "\n",
      "\n",
      "Results for each iteration:{'mean_fit_time': array([0.38598785, 0.26926303, 0.18060012, 0.12440042, 0.13759875,\n",
      "       0.17060041, 0.25526814, 0.21824975, 0.22958083, 0.20042963,\n",
      "       0.19240727, 0.18717513, 0.2107305 , 0.24759564, 1.63170581,\n",
      "       1.15620694]), 'std_fit_time': array([0.08352903, 0.05755612, 0.01720134, 0.00952005, 0.0114829 ,\n",
      "       0.03540311, 0.01075849, 0.0129826 , 0.00422157, 0.00825801,\n",
      "       0.00492985, 0.00998664, 0.00439036, 0.05038961, 0.1021458 ,\n",
      "       0.63605124]), 'mean_score_time': array([0.01120124, 0.01506457, 0.00440106, 0.00719895, 0.00380063,\n",
      "       0.00619993, 0.00660005, 0.00500159, 0.00379972, 0.00296841,\n",
      "       0.00360045, 0.00906758, 0.00375314, 0.00480032, 0.00740304,\n",
      "       0.00539999]), 'std_score_time': array([0.00844804, 0.01917168, 0.00049321, 0.00278611, 0.00147026,\n",
      "       0.0033707 , 0.00257694, 0.00260709, 0.00116631, 0.00060804,\n",
      "       0.00049035, 0.00503058, 0.00101777, 0.00248085, 0.00783747,\n",
      "       0.00436311]), 'param_max_depth': masked_array(data=[2, 2, 2, 2, 3, 3, 3, 3, 4, 4, 4, 4, 5, 5, 5, 5],\n",
      "             mask=[False, False, False, False, False, False, False, False,\n",
      "                   False, False, False, False, False, False, False, False],\n",
      "       fill_value='?',\n",
      "            dtype=object), 'param_min_child_weight': masked_array(data=[6, 7, 8, 9, 6, 7, 8, 9, 6, 7, 8, 9, 6, 7, 8, 9],\n",
      "             mask=[False, False, False, False, False, False, False, False,\n",
      "                   False, False, False, False, False, False, False, False],\n",
      "       fill_value='?',\n",
      "            dtype=object), 'params': [{'max_depth': 2, 'min_child_weight': 6}, {'max_depth': 2, 'min_child_weight': 7}, {'max_depth': 2, 'min_child_weight': 8}, {'max_depth': 2, 'min_child_weight': 9}, {'max_depth': 3, 'min_child_weight': 6}, {'max_depth': 3, 'min_child_weight': 7}, {'max_depth': 3, 'min_child_weight': 8}, {'max_depth': 3, 'min_child_weight': 9}, {'max_depth': 4, 'min_child_weight': 6}, {'max_depth': 4, 'min_child_weight': 7}, {'max_depth': 4, 'min_child_weight': 8}, {'max_depth': 4, 'min_child_weight': 9}, {'max_depth': 5, 'min_child_weight': 6}, {'max_depth': 5, 'min_child_weight': 7}, {'max_depth': 5, 'min_child_weight': 8}, {'max_depth': 5, 'min_child_weight': 9}], 'split0_test_score': array([0.72970477, 0.73457881, 0.7847115 , 0.74449254, 0.63872627,\n",
      "       0.64601991, 0.7609821 , 0.71411604, 0.66839218, 0.69844839,\n",
      "       0.74336902, 0.73760222, 0.62997882, 0.67456759, 0.75559868,\n",
      "       0.73036339]), 'split1_test_score': array([0.81824189, 0.8043468 , 0.8119611 , 0.7974481 , 0.76916432,\n",
      "       0.74815439, 0.78779336, 0.81821638, 0.78066406, 0.78505864,\n",
      "       0.75428858, 0.81396215, 0.76706844, 0.78983804, 0.77353598,\n",
      "       0.80603046]), 'split2_test_score': array([-0.36151512, -0.40575698, -0.485523  , -0.44071159, -0.39634144,\n",
      "       -0.4326467 , -0.49955142, -0.45642742, -0.42601512, -0.49005197,\n",
      "       -0.57984003, -0.40858199, -0.42691145, -0.53126576, -0.5640966 ,\n",
      "       -0.39667771]), 'split3_test_score': array([0.91755963, 0.91868988, 0.92732169, 0.91895684, 0.91860387,\n",
      "       0.92844967, 0.91400056, 0.92881168, 0.90343537, 0.92289671,\n",
      "       0.92368827, 0.92836651, 0.9213786 , 0.91028466, 0.91903239,\n",
      "       0.92655238]), 'split4_test_score': array([-0.54083002, -0.55082558, -0.47832114, -0.51176647, -0.47464897,\n",
      "       -0.48113333, -0.48591929, -0.4348158 , -0.50270724, -0.52826446,\n",
      "       -0.44999951, -0.43807355, -0.48594926, -0.51058038, -0.44491372,\n",
      "       -0.42510194]), 'mean_test_score': array([0.31263223, 0.30020659, 0.31203003, 0.30168388, 0.29110081,\n",
      "       0.28176879, 0.29546106, 0.31398017, 0.28475385, 0.27761746,\n",
      "       0.27830126, 0.32665507, 0.28111303, 0.26656883, 0.28783135,\n",
      "       0.32823332]), 'std_test_score': array([0.62903104, 0.63999976, 0.650029  , 0.63808151, 0.60034954,\n",
      "       0.61004913, 0.64564575, 0.62395576, 0.61662949, 0.64648937,\n",
      "       0.65210503, 0.6154325 , 0.60950524, 0.64732444, 0.65051158,\n",
      "       0.60679394]), 'rank_test_score': array([ 4,  7,  5,  6,  9, 12,  8,  3, 11, 15, 14,  2, 13, 16, 10,  1])}\n",
      "Best parameters：{'max_depth': 5, 'min_child_weight': 9}\n",
      "Best score:0.328233317542151\n"
     ]
    },
    {
     "name": "stderr",
     "output_type": "stream",
     "text": [
      "[Parallel(n_jobs=-1)]: Done  80 out of  80 | elapsed:   10.6s finished\n"
     ]
    }
   ],
   "source": [
    "model_surge_1 = xgb.XGBRegressor(booster='gbtree',objective = 'reg:squarederror', silent=False, seed=0,**init_params)\n",
    "optimized_xgb = GridSearchCV(estimator=model_surge_1, param_grid=cv_params, scoring='r2', cv=5, verbose=1, n_jobs=-1)\n",
    "optimized_xgb.fit(surge_1_X, surge_1_Y)\n",
    "evalute_result = optimized_xgb.cv_results_\n",
    "print('Results for each iteration:{0}'.format(evalute_result))\n",
    "print('Best parameters：{0}'.format(optimized_xgb.best_params_))\n",
    "print('Best score:{0}'.format(optimized_xgb.best_score_))"
   ]
  },
  {
   "cell_type": "code",
   "execution_count": 50,
   "metadata": {},
   "outputs": [],
   "source": [
    "test1 = xgb.XGBRegressor(booster='gbtree',objective = 'reg:squarederror', silent=False, seed=0,**init_params)"
   ]
  },
  {
   "cell_type": "code",
   "execution_count": 51,
   "metadata": {},
   "outputs": [
    {
     "name": "stdout",
     "output_type": "stream",
     "text": [
      "[20:27:27] WARNING: C:/Users/Administrator/workspace/xgboost-win64_release_1.3.0/src/learner.cc:541: \n",
      "Parameters: { silent } might not be used.\n",
      "\n",
      "  This may not be accurate due to some parameters are only used in language bindings but\n",
      "  passed down to XGBoost core.  Or some parameters are not used but slip through this\n",
      "  verification. Please open an issue if you find above cases.\n",
      "\n",
      "\n"
     ]
    },
    {
     "data": {
      "text/plain": [
       "XGBRegressor(base_score=0.5, booster='gbtree', colsample_bylevel=1,\n",
       "             colsample_bynode=1, colsample_bytree=0.8, gamma=0, gpu_id=-1,\n",
       "             importance_type='gain', interaction_constraints='',\n",
       "             learning_rate=0.1, max_delta_step=0, max_depth=4,\n",
       "             min_child_weight=9, missing=nan, monotone_constraints='()',\n",
       "             n_estimators=50, n_jobs=8, num_parallel_tree=1, random_state=0,\n",
       "             reg_alpha=0, reg_lambda=1, scale_pos_weight=1, seed=0,\n",
       "             silent=False, subsample=0.8, tree_method='exact',\n",
       "             validate_parameters=1, verbosity=None)"
      ]
     },
     "execution_count": 51,
     "metadata": {},
     "output_type": "execute_result"
    }
   ],
   "source": [
    "test1.fit(surge_1_X, surge_1_Y)"
   ]
  },
  {
   "cell_type": "code",
   "execution_count": 52,
   "metadata": {
    "scrolled": true
   },
   "outputs": [
    {
     "data": {
      "text/plain": [
       "0.9649273638508926"
      ]
     },
     "execution_count": 52,
     "metadata": {},
     "output_type": "execute_result"
    }
   ],
   "source": [
    "r2 = r2_score(surge_1_Y,test1.predict(surge_1_X))\n",
    "r2"
   ]
  },
  {
   "cell_type": "code",
   "execution_count": 53,
   "metadata": {},
   "outputs": [
    {
     "data": {
      "text/plain": [
       "{'elapsed': 199551.8751185,\n",
       " 'WSPD': 3318.431511099999,\n",
       " 'PM2.5': 25499.2746855,\n",
       " 'SO2': 33486.26316,\n",
       " 'TEMP': 39713.54317700001,\n",
       " 'HUM': 27958.0523836,\n",
       " 'NO2': 4092.8945779,\n",
       " 'ACTV': 9294.261909499997,\n",
       " 'PM10': 6897.980649,\n",
       " 'O3': 5787.999179360001,\n",
       " 'PRES': 7973.660067600001,\n",
       " 'CO': 3840.5961163000006}"
      ]
     },
     "execution_count": 53,
     "metadata": {},
     "output_type": "execute_result"
    }
   ],
   "source": [
    "test1.get_booster().get_score(importance_type=\"total_gain\")"
   ]
  },
  {
   "cell_type": "code",
   "execution_count": 54,
   "metadata": {},
   "outputs": [],
   "source": [
    "from sklearn.inspection import permutation_importance"
   ]
  },
  {
   "cell_type": "code",
   "execution_count": 63,
   "metadata": {},
   "outputs": [],
   "source": [
    "surge_1_p = permutation_importance(test1, surge_1_X, surge_1_Y, n_repeats=10,random_state=0)"
   ]
  },
  {
   "cell_type": "code",
   "execution_count": 64,
   "metadata": {},
   "outputs": [
    {
     "data": {
      "text/plain": [
       "{'importances_mean': array([0.03989711, 0.00533377, 0.13211275, 0.01263952, 0.00661484,\n",
       "        0.01388587, 0.05640128, 0.02777188, 0.00997107, 0.14298122,\n",
       "        0.0155688 , 0.92373883]),\n",
       " 'importances_std': array([0.0096938 , 0.00150676, 0.0155668 , 0.00289636, 0.00128921,\n",
       "        0.00292528, 0.00719603, 0.00373142, 0.00286266, 0.0195258 ,\n",
       "        0.00190059, 0.05712728]),\n",
       " 'importances': array([[0.05528023, 0.04968154, 0.03685729, 0.04704255, 0.03144972,\n",
       "         0.02878541, 0.02711929, 0.05034902, 0.04132106, 0.03108496],\n",
       "        [0.00707086, 0.00521199, 0.00384518, 0.00633052, 0.00643509,\n",
       "         0.00566503, 0.00665656, 0.00168749, 0.00503497, 0.00539998],\n",
       "        [0.14977071, 0.14413612, 0.10833879, 0.1198334 , 0.15837713,\n",
       "         0.12927947, 0.1350082 , 0.11266648, 0.14097969, 0.12273747],\n",
       "        [0.01200761, 0.01475986, 0.01689071, 0.01034156, 0.01230334,\n",
       "         0.00771325, 0.00894032, 0.01657175, 0.01408626, 0.01278052],\n",
       "        [0.0067011 , 0.00681806, 0.00854735, 0.00777512, 0.00612911,\n",
       "         0.00634044, 0.00398055, 0.00595363, 0.0056143 , 0.00828877],\n",
       "        [0.0142672 , 0.01615964, 0.00839623, 0.01482557, 0.01945991,\n",
       "         0.01467289, 0.01066108, 0.01353942, 0.0116178 , 0.01525895],\n",
       "        [0.06222187, 0.06766392, 0.05626236, 0.04789022, 0.06869827,\n",
       "         0.0535541 , 0.04978673, 0.05775969, 0.0500385 , 0.05013712],\n",
       "        [0.02804309, 0.0292072 , 0.03027092, 0.02853779, 0.01897149,\n",
       "         0.02742823, 0.02736239, 0.0346198 , 0.02787897, 0.02539889],\n",
       "        [0.00904934, 0.01043315, 0.00783133, 0.00636869, 0.00957313,\n",
       "         0.0152723 , 0.01013482, 0.0084345 , 0.00749149, 0.01512197],\n",
       "        [0.16108307, 0.1593304 , 0.13267659, 0.1359016 , 0.11106707,\n",
       "         0.11733998, 0.14116468, 0.17171352, 0.16500488, 0.13453042],\n",
       "        [0.01675805, 0.01405211, 0.01371773, 0.01307295, 0.0134011 ,\n",
       "         0.01545586, 0.01785333, 0.01904641, 0.01625457, 0.01607584],\n",
       "        [1.00970179, 0.8862328 , 0.9457005 , 0.88354218, 0.89595477,\n",
       "         0.93453754, 0.81565136, 0.89240014, 0.99744861, 0.97621859]])}"
      ]
     },
     "execution_count": 64,
     "metadata": {},
     "output_type": "execute_result"
    }
   ],
   "source": [
    "surge_1_p"
   ]
  },
  {
   "cell_type": "code",
   "execution_count": 57,
   "metadata": {},
   "outputs": [
    {
     "data": {
      "text/plain": [
       "Index(['PM2.5', 'PM10', 'SO2', 'CO', 'NO2', 'O3', 'HUM', 'PRES', 'WSPD',\n",
       "       'TEMP', 'ACTV', 'elapsed'],\n",
       "      dtype='object')"
      ]
     },
     "execution_count": 57,
     "metadata": {},
     "output_type": "execute_result"
    }
   ],
   "source": [
    "surge_1_X.columns"
   ]
  },
  {
   "cell_type": "code",
   "execution_count": 58,
   "metadata": {},
   "outputs": [],
   "source": [
    "labels = ['PM2.5', 'PM10', 'SO${_2}$', 'CO', 'NO${_2}$', 'O${_3}$', 'Relative humidity', 'Atmospheric pressure', 'Wind speed', 'Air temperature', 'Degree of activeness','Days elapsed']"
   ]
  },
  {
   "cell_type": "code",
   "execution_count": 60,
   "metadata": {},
   "outputs": [],
   "source": [
    "surge_1_pd = {}"
   ]
  },
  {
   "cell_type": "code",
   "execution_count": 65,
   "metadata": {},
   "outputs": [],
   "source": [
    "c= 0\n",
    "for i in labels:\n",
    "    surge_1_pd[i] = surge_1_p['importances_mean'][c]\n",
    "    c = c + 1"
   ]
  },
  {
   "cell_type": "code",
   "execution_count": 66,
   "metadata": {},
   "outputs": [
    {
     "data": {
      "text/plain": [
       "{'PM2.5': 0.03989710827959383,\n",
       " 'PM10': 0.005333767386346455,\n",
       " 'SO${_2}$': 0.13211274701801562,\n",
       " 'CO': 0.012639518218823398,\n",
       " 'NO${_2}$': 0.006614843123117953,\n",
       " 'O${_3}$': 0.01388587066055752,\n",
       " 'Relative humidity': 0.05640127717832757,\n",
       " 'Atmospheric pressure': 0.02777187651730676,\n",
       " 'Wind speed': 0.009971073620510052,\n",
       " 'Air temperature': 0.14298122001351446,\n",
       " 'Degree of activeness': 0.015568795466466844,\n",
       " 'Days elapsed': 0.923738828722198}"
      ]
     },
     "execution_count": 66,
     "metadata": {},
     "output_type": "execute_result"
    }
   ],
   "source": [
    "surge_1_pd"
   ]
  },
  {
   "cell_type": "code",
   "execution_count": 67,
   "metadata": {},
   "outputs": [],
   "source": [
    "import shap\n",
    "explainer_surge_1 = shap.TreeExplainer(test1)"
   ]
  },
  {
   "cell_type": "code",
   "execution_count": 69,
   "metadata": {},
   "outputs": [
    {
     "name": "stdout",
     "output_type": "stream",
     "text": [
      "[[ -1.2472136   -0.04703335  -5.247623   ...   3.7904034   -0.9043922\n",
      "  -29.455435  ]\n",
      " [ -0.29013413  -0.8469411   -6.4838805  ...   3.603868    -0.858954\n",
      "  -23.069405  ]\n",
      " [ -0.29013413  -0.23746584  -6.4934173  ...   3.784563    -0.7539113\n",
      "  -18.577688  ]\n",
      " ...\n",
      " [  0.37962538   1.8196809    8.704688   ...   9.419268    -0.09695968\n",
      "   26.453428  ]\n",
      " [ -0.24231833   1.5590075    8.657632   ...   9.419268    -0.2495933\n",
      "   26.112963  ]\n",
      " [  5.9389772    1.4451379    7.6084003  ...  10.024788    -0.09695968\n",
      "   27.554926  ]]\n"
     ]
    }
   ],
   "source": [
    "surge_1_shap_values = explainer_surge_1.shap_values(surge_1_X)\n",
    "print(surge_1_shap_values)"
   ]
  },
  {
   "cell_type": "code",
   "execution_count": 71,
   "metadata": {},
   "outputs": [
    {
     "name": "stdout",
     "output_type": "stream",
     "text": [
      "35.841606\n"
     ]
    }
   ],
   "source": [
    "y_base_surge_1 = explainer_surge_1.expected_value\n",
    "print(y_base_surge_1)\n"
   ]
  },
  {
   "cell_type": "code",
   "execution_count": 74,
   "metadata": {},
   "outputs": [
    {
     "data": {
      "image/png": "[encoded data removed]",
      "text/plain": [
       "<Figure size 576x453.6 with 2 Axes>"
      ]
     },
     "metadata": {
      "needs_background": "light"
     },
     "output_type": "display_data"
    }
   ],
   "source": [
    "shap.summary_plot(surge_1_shap_values, surge_1_X,feature_names=labels,show=False)\n",
    "\n",
    "plt.savefig(\"../../covid-proj/new_figs/segments/m3/shap_moving3_cluster1_surge_1.png\",format=\"png\",bbox_inches='tight')\n",
    "plt.savefig(\"../../covid-proj/new_figs/segments/m3/shap_moving3_cluster1_surge_1.svg\",format=\"svg\",bbox_inches='tight')"
   ]
  },
  {
   "cell_type": "code",
   "execution_count": 75,
   "metadata": {},
   "outputs": [
    {
     "data": {
      "image/png": "[encoded data removed]",
      "text/plain": [
       "<Figure size 576x453.6 with 1 Axes>"
      ]
     },
     "metadata": {
      "needs_background": "light"
     },
     "output_type": "display_data"
    }
   ],
   "source": [
    "shap.summary_plot(surge_1_shap_values, surge_1_X, feature_names=labels, plot_type=\"bar\",show=False)\n",
    "plt.savefig(\"../../covid-proj/new_figs/segments/m3/shap_moving3_cluster1_surge_1_bar.png\",format=\"png\",bbox_inches='tight')\n",
    "plt.savefig(\"../../covid-proj/new_figs/segments/m3/shap_moving3_cluster1_surge_1_bar.svg\",format=\"svg\",bbox_inches='tight')"
   ]
  },
  {
   "cell_type": "code",
   "execution_count": null,
   "metadata": {},
   "outputs": [],
   "source": []
  },
  {
   "cell_type": "markdown",
   "metadata": {},
   "source": [
    "# Cluster 1 Drop 1 Model"
   ]
  },
  {
   "cell_type": "code",
   "execution_count": 76,
   "metadata": {},
   "outputs": [],
   "source": [
    "drop_1_X = drop_1.drop(columns = ['MORB%','Case','log(Case+1)','log(MORB%+1)','city','date','Unnamed: 0', 'Unnamed: 0.1'])\n",
    "drop_1_Y = drop_1['Case'].copy()"
   ]
  },
  {
   "cell_type": "code",
   "execution_count": 84,
   "metadata": {},
   "outputs": [],
   "source": [
    "init_params = {'learning_rate': 0.1, 'n_estimators':50 ,'max_depth': 4, 'min_child_weight': 8, \n",
    "                    'subsample': 0.8, 'colsample_bytree': 0.8, 'gamma': 0, 'reg_alpha': 0, 'reg_lambda': 1}"
   ]
  },
  {
   "cell_type": "code",
   "execution_count": 73,
   "metadata": {},
   "outputs": [],
   "source": [
    "cv_params = {'n_estimators':range(50,500,50)}"
   ]
  },
  {
   "cell_type": "code",
   "execution_count": 81,
   "metadata": {},
   "outputs": [],
   "source": [
    "cv_params = {'n_estimators':[10,20,30,40,50,60,70,80,90,100]}"
   ]
  },
  {
   "cell_type": "code",
   "execution_count": 78,
   "metadata": {},
   "outputs": [],
   "source": [
    "cv_params = {'max_depth': range(2,6,1), 'min_child_weight': range(6,10,1)}"
   ]
  },
  {
   "cell_type": "code",
   "execution_count": 256,
   "metadata": {},
   "outputs": [],
   "source": [
    "cv_params = {'max_depth': [1,2,3,4], 'min_child_weight':[12,13,14,15,16] }"
   ]
  },
  {
   "cell_type": "code",
   "execution_count": 94,
   "metadata": {},
   "outputs": [],
   "source": [
    "cv_params = {'gamma': [0,0.1, 0.2, 0.3, 0.4, 0.5, 0.6,0.7,0.8,0.9,1]}"
   ]
  },
  {
   "cell_type": "code",
   "execution_count": 96,
   "metadata": {},
   "outputs": [],
   "source": [
    "cv_params = {'subsample': [0,0.1,0.2,0.3,0.4,0.5,0.6, 0.7, 0.8, 0.9,1], 'colsample_bytree': [0,0.1,0.2,0.3,0.4,0.5,0.6, 0.7, 0.8, 0.9,1]}"
   ]
  },
  {
   "cell_type": "code",
   "execution_count": 99,
   "metadata": {},
   "outputs": [],
   "source": [
    "cv_params = {'reg_alpha': [0,0.05, 0.1, 1, 2, 3], 'reg_lambda': [0,0.05, 0.1, 1, 2, 3]}"
   ]
  },
  {
   "cell_type": "code",
   "execution_count": 102,
   "metadata": {},
   "outputs": [],
   "source": [
    "cv_params = {'learning_rate': [0.01, 0.03,0.05, 0.07, 0.1, 0.2,0.3]}"
   ]
  },
  {
   "cell_type": "code",
   "execution_count": 79,
   "metadata": {},
   "outputs": [
    {
     "name": "stdout",
     "output_type": "stream",
     "text": [
      "Fitting 5 folds for each of 16 candidates, totalling 80 fits\n"
     ]
    },
    {
     "name": "stderr",
     "output_type": "stream",
     "text": [
      "[Parallel(n_jobs=-1)]: Using backend LokyBackend with 8 concurrent workers.\n",
      "[Parallel(n_jobs=-1)]: Done  34 tasks      | elapsed:   50.7s\n"
     ]
    },
    {
     "name": "stdout",
     "output_type": "stream",
     "text": [
      "[20:40:07] WARNING: C:/Users/Administrator/workspace/xgboost-win64_release_1.3.0/src/learner.cc:541: \n",
      "Parameters: { silent } might not be used.\n",
      "\n",
      "  This may not be accurate due to some parameters are only used in language bindings but\n",
      "  passed down to XGBoost core.  Or some parameters are not used but slip through this\n",
      "  verification. Please open an issue if you find above cases.\n",
      "\n",
      "\n",
      "Results for each iteration:{'mean_fit_time': array([ 0.60145917,  0.71610999,  0.83936739,  0.13685975, 18.64110675,\n",
      "       32.23558011, 11.59838777,  6.30500307, 12.90387278,  3.53944149,\n",
      "        0.20068049,  0.1506001 ,  0.18739996,  0.19740043,  0.18119946,\n",
      "        0.13499951]), 'std_fit_time': array([1.54569734e-01, 3.21215388e-01, 1.08083121e-01, 2.92462805e-02,\n",
      "       1.11279207e+01, 1.02150526e+00, 5.77407994e+00, 4.40924113e+00,\n",
      "       1.81377358e-01, 4.43181221e+00, 1.02748862e-02, 9.24327557e-03,\n",
      "       1.68242014e-02, 1.17410069e-02, 7.46719449e-03, 2.75824850e-02]), 'mean_score_time': array([0.05506988, 0.02680087, 0.00650482, 0.01910577, 0.15531511,\n",
      "       0.12393212, 0.19840956, 0.12369761, 0.02100024, 0.00310616,\n",
      "       0.00440025, 0.00480013, 0.00319924, 0.00299954, 0.0044004 ,\n",
      "       0.00260024]), 'std_score_time': array([3.48465313e-02, 3.05514766e-02, 3.48928009e-03, 7.54003589e-03,\n",
      "       6.63568808e-02, 9.86044387e-02, 9.87039912e-02, 9.53672276e-02,\n",
      "       1.65163186e-02, 7.97649364e-04, 2.05893550e-03, 2.99320459e-03,\n",
      "       9.80124559e-04, 4.76837158e-07, 1.62510093e-03, 4.89531891e-04]), 'param_max_depth': masked_array(data=[2, 2, 2, 2, 3, 3, 3, 3, 4, 4, 4, 4, 5, 5, 5, 5],\n",
      "             mask=[False, False, False, False, False, False, False, False,\n",
      "                   False, False, False, False, False, False, False, False],\n",
      "       fill_value='?',\n",
      "            dtype=object), 'param_min_child_weight': masked_array(data=[6, 7, 8, 9, 6, 7, 8, 9, 6, 7, 8, 9, 6, 7, 8, 9],\n",
      "             mask=[False, False, False, False, False, False, False, False,\n",
      "                   False, False, False, False, False, False, False, False],\n",
      "       fill_value='?',\n",
      "            dtype=object), 'params': [{'max_depth': 2, 'min_child_weight': 6}, {'max_depth': 2, 'min_child_weight': 7}, {'max_depth': 2, 'min_child_weight': 8}, {'max_depth': 2, 'min_child_weight': 9}, {'max_depth': 3, 'min_child_weight': 6}, {'max_depth': 3, 'min_child_weight': 7}, {'max_depth': 3, 'min_child_weight': 8}, {'max_depth': 3, 'min_child_weight': 9}, {'max_depth': 4, 'min_child_weight': 6}, {'max_depth': 4, 'min_child_weight': 7}, {'max_depth': 4, 'min_child_weight': 8}, {'max_depth': 4, 'min_child_weight': 9}, {'max_depth': 5, 'min_child_weight': 6}, {'max_depth': 5, 'min_child_weight': 7}, {'max_depth': 5, 'min_child_weight': 8}, {'max_depth': 5, 'min_child_weight': 9}], 'split0_test_score': array([0.32077889, 0.29323008, 0.34319736, 0.31968529, 0.28465375,\n",
      "       0.26060216, 0.36240181, 0.30264767, 0.27905668, 0.25039475,\n",
      "       0.34920267, 0.31097992, 0.29344442, 0.29227762, 0.36021257,\n",
      "       0.28143321]), 'split1_test_score': array([0.68842218, 0.69317511, 0.67235002, 0.66825942, 0.62016885,\n",
      "       0.62278388, 0.63884684, 0.56750406, 0.62436211, 0.63403705,\n",
      "       0.67456649, 0.591528  , 0.57736593, 0.62939461, 0.62826436,\n",
      "       0.62353872]), 'split2_test_score': array([-0.2725476 , -0.20973306, -0.18984667, -0.15767866, -0.25018623,\n",
      "       -0.16939456, -0.13082322, -0.10477229, -0.19944686, -0.10399899,\n",
      "       -0.14280135, -0.03808768, -0.24114023, -0.1409053 , -0.18774818,\n",
      "       -0.00499454]), 'split3_test_score': array([-4.53963944, -4.15536002, -4.41704434, -4.67784524, -4.3031751 ,\n",
      "       -4.30343148, -4.42052652, -4.66484083, -4.61508782, -4.5940965 ,\n",
      "       -4.27869995, -4.88726928, -4.36196773, -4.32550107, -3.98447229,\n",
      "       -4.44276009]), 'split4_test_score': array([0.21881866, 0.20778788, 0.14947433, 0.21998287, 0.29059011,\n",
      "       0.19329097, 0.21012863, 0.24426975, 0.22675664, 0.25719329,\n",
      "       0.23164982, 0.20101933, 0.21405029, 0.18682746, 0.21116517,\n",
      "       0.19485264]), 'mean_test_score': array([-0.71683346, -0.63418   , -0.68837386, -0.72551927, -0.67158972,\n",
      "       -0.67922981, -0.66799449, -0.73103833, -0.73687185, -0.71129408,\n",
      "       -0.63321647, -0.76436595, -0.70364946, -0.67158134, -0.59451567,\n",
      "       -0.66958601]), 'std_test_score': array([1.93587516, 1.78380127, 1.88516372, 1.99360826, 1.83710778,\n",
      "       1.82945817, 1.89265425, 1.9785326 , 1.95668256, 1.95538697,\n",
      "       1.84138503, 2.07135694, 1.84794896, 1.84343021, 1.71540574,\n",
      "       1.89749244]), 'rank_test_score': array([12,  3,  9, 13,  7,  8,  4, 14, 15, 11,  2, 16, 10,  6,  1,  5])}\n",
      "Best parameters：{'max_depth': 5, 'min_child_weight': 8}\n",
      "Best score:-0.5945156717765749\n"
     ]
    },
    {
     "name": "stderr",
     "output_type": "stream",
     "text": [
      "[Parallel(n_jobs=-1)]: Done  80 out of  80 | elapsed:  1.1min finished\n"
     ]
    }
   ],
   "source": [
    "model_drop_1 = xgb.XGBRegressor(booster='gbtree',objective = 'reg:squarederror', silent=False, seed=0,**init_params)\n",
    "optimized_xgb = GridSearchCV(estimator=model_drop_1, param_grid=cv_params, scoring='r2', cv=5, verbose=1, n_jobs=-1)\n",
    "optimized_xgb.fit(drop_1_X, drop_1_Y)\n",
    "evalute_result = optimized_xgb.cv_results_\n",
    "print('Results for each iteration:{0}'.format(evalute_result))\n",
    "print('Best parameters：{0}'.format(optimized_xgb.best_params_))\n",
    "print('Best score:{0}'.format(optimized_xgb.best_score_))"
   ]
  },
  {
   "cell_type": "code",
   "execution_count": 85,
   "metadata": {},
   "outputs": [],
   "source": [
    "test2 = xgb.XGBRegressor(booster='gbtree',objective = 'reg:squarederror', silent=False, seed=0,**init_params)"
   ]
  },
  {
   "cell_type": "code",
   "execution_count": 86,
   "metadata": {},
   "outputs": [
    {
     "name": "stdout",
     "output_type": "stream",
     "text": [
      "[20:41:00] WARNING: C:/Users/Administrator/workspace/xgboost-win64_release_1.3.0/src/learner.cc:541: \n",
      "Parameters: { silent } might not be used.\n",
      "\n",
      "  This may not be accurate due to some parameters are only used in language bindings but\n",
      "  passed down to XGBoost core.  Or some parameters are not used but slip through this\n",
      "  verification. Please open an issue if you find above cases.\n",
      "\n",
      "\n"
     ]
    },
    {
     "data": {
      "text/plain": [
       "XGBRegressor(base_score=0.5, booster='gbtree', colsample_bylevel=1,\n",
       "             colsample_bynode=1, colsample_bytree=0.8, gamma=0, gpu_id=-1,\n",
       "             importance_type='gain', interaction_constraints='',\n",
       "             learning_rate=0.1, max_delta_step=0, max_depth=4,\n",
       "             min_child_weight=8, missing=nan, monotone_constraints='()',\n",
       "             n_estimators=50, n_jobs=8, num_parallel_tree=1, random_state=0,\n",
       "             reg_alpha=0, reg_lambda=1, scale_pos_weight=1, seed=0,\n",
       "             silent=False, subsample=0.8, tree_method='exact',\n",
       "             validate_parameters=1, verbosity=None)"
      ]
     },
     "execution_count": 86,
     "metadata": {},
     "output_type": "execute_result"
    }
   ],
   "source": [
    "test2.fit(drop_1_X, drop_1_Y)"
   ]
  },
  {
   "cell_type": "code",
   "execution_count": 87,
   "metadata": {
    "scrolled": true
   },
   "outputs": [
    {
     "data": {
      "text/plain": [
       "0.9652646689574654"
      ]
     },
     "execution_count": 87,
     "metadata": {},
     "output_type": "execute_result"
    }
   ],
   "source": [
    "r2 = r2_score(drop_1_Y,test2.predict(drop_1_X))\n",
    "r2"
   ]
  },
  {
   "cell_type": "code",
   "execution_count": 88,
   "metadata": {},
   "outputs": [
    {
     "data": {
      "text/plain": [
       "{'elapsed': 240091.5534805,\n",
       " 'ACTV': 45210.183181039974,\n",
       " 'HUM': 7174.4262807000005,\n",
       " 'O3': 45205.1266323,\n",
       " 'CO': 3371.87661911,\n",
       " 'PM2.5': 18864.634424522,\n",
       " 'PM10': 23980.566567900005,\n",
       " 'NO2': 14662.3912295,\n",
       " 'PRES': 16841.133083209992,\n",
       " 'WSPD': 8641.693915140002,\n",
       " 'SO2': 6361.2058261,\n",
       " 'TEMP': 10522.960933100001}"
      ]
     },
     "execution_count": 88,
     "metadata": {},
     "output_type": "execute_result"
    }
   ],
   "source": [
    "test2.get_booster().get_score(importance_type=\"total_gain\")"
   ]
  },
  {
   "cell_type": "code",
   "execution_count": 89,
   "metadata": {},
   "outputs": [],
   "source": [
    "drop_1_p = permutation_importance(test2, drop_1_X, drop_1_Y, n_repeats=10,random_state=0)"
   ]
  },
  {
   "cell_type": "code",
   "execution_count": 90,
   "metadata": {},
   "outputs": [
    {
     "data": {
      "text/plain": [
       "{'importances_mean': array([0.05420727, 0.02547839, 0.02089908, 0.00284288, 0.03629484,\n",
       "        0.15956367, 0.00784175, 0.04335525, 0.0115472 , 0.01570848,\n",
       "        0.04687644, 1.04401086]),\n",
       " 'importances_std': array([0.0054829 , 0.00441372, 0.00206428, 0.0007372 , 0.00448576,\n",
       "        0.01778934, 0.00095804, 0.00487056, 0.00126775, 0.00255266,\n",
       "        0.00696338, 0.08856243]),\n",
       " 'importances': array([[0.05183675, 0.04709674, 0.06245875, 0.04886001, 0.05165617,\n",
       "         0.0610498 , 0.0470052 , 0.05984102, 0.05483045, 0.05743786],\n",
       "        [0.03589818, 0.02791096, 0.02698174, 0.0187605 , 0.02367571,\n",
       "         0.02584103, 0.0206293 , 0.02671018, 0.02341753, 0.02495878],\n",
       "        [0.02301659, 0.01905151, 0.02192325, 0.01919653, 0.02232829,\n",
       "         0.02049368, 0.0201706 , 0.0252185 , 0.01930871, 0.0182831 ],\n",
       "        [0.00149244, 0.0037275 , 0.00202799, 0.0027708 , 0.00404909,\n",
       "         0.00292726, 0.00299534, 0.00320148, 0.00214699, 0.00308985],\n",
       "        [0.0318839 , 0.04072187, 0.03240852, 0.04164321, 0.04138581,\n",
       "         0.04246404, 0.03616299, 0.03145226, 0.03307348, 0.03175229],\n",
       "        [0.17200882, 0.14571737, 0.1738193 , 0.19230814, 0.17110664,\n",
       "         0.15181759, 0.16339835, 0.15485339, 0.12707738, 0.14352971],\n",
       "        [0.00811321, 0.00577036, 0.00673939, 0.00838577, 0.00780746,\n",
       "         0.00810205, 0.00860886, 0.00713848, 0.00879916, 0.00895275],\n",
       "        [0.0475471 , 0.04271627, 0.04798888, 0.04286634, 0.03907766,\n",
       "         0.03432677, 0.03661196, 0.04782814, 0.04807113, 0.04651822],\n",
       "        [0.01142179, 0.01257149, 0.01083761, 0.01305349, 0.01192234,\n",
       "         0.011138  , 0.00951499, 0.01009789, 0.01387845, 0.01103597],\n",
       "        [0.01791542, 0.0115825 , 0.01759351, 0.01416558, 0.01860237,\n",
       "         0.01562933, 0.01116716, 0.01753142, 0.01505068, 0.01784678],\n",
       "        [0.05604216, 0.04086082, 0.04322784, 0.04685696, 0.04483365,\n",
       "         0.05525463, 0.05768563, 0.04454305, 0.04485704, 0.03460261],\n",
       "        [1.06221532, 0.97383183, 1.14915185, 0.88523931, 1.07778399,\n",
       "         1.08612517, 1.0268634 , 1.02204127, 1.20263261, 0.95422385]])}"
      ]
     },
     "execution_count": 90,
     "metadata": {},
     "output_type": "execute_result"
    }
   ],
   "source": [
    "drop_1_p"
   ]
  },
  {
   "cell_type": "code",
   "execution_count": 93,
   "metadata": {},
   "outputs": [],
   "source": [
    "drop_1_pd = {}"
   ]
  },
  {
   "cell_type": "code",
   "execution_count": 94,
   "metadata": {},
   "outputs": [],
   "source": [
    "c= 0\n",
    "for i in labels:\n",
    "    drop_1_pd[i] = drop_1_p['importances_mean'][c]\n",
    "    c = c + 1"
   ]
  },
  {
   "cell_type": "code",
   "execution_count": 95,
   "metadata": {},
   "outputs": [
    {
     "data": {
      "text/plain": [
       "{'PM2.5': 0.054207273787849265,\n",
       " 'PM10': 0.025478390433323617,\n",
       " 'SO${_2}$': 0.020899075990746606,\n",
       " 'CO': 0.002842875534132794,\n",
       " 'NO${_2}$': 0.03629483735049434,\n",
       " 'O${_3}$': 0.1595636688279621,\n",
       " 'Relative humidity': 0.00784174832892377,\n",
       " 'Atmospheric pressure': 0.04335524638710496,\n",
       " 'Wind speed': 0.011547201923021966,\n",
       " 'Air temperature': 0.015708475283458645,\n",
       " 'Degree of activeness': 0.046876439613110596,\n",
       " 'Days elapsed': 1.0440108585597376}"
      ]
     },
     "execution_count": 95,
     "metadata": {},
     "output_type": "execute_result"
    }
   ],
   "source": [
    "drop_1_pd"
   ]
  },
  {
   "cell_type": "code",
   "execution_count": 96,
   "metadata": {},
   "outputs": [],
   "source": [
    "explainer_drop_1 = shap.TreeExplainer(test2)"
   ]
  },
  {
   "cell_type": "code",
   "execution_count": 97,
   "metadata": {},
   "outputs": [
    {
     "name": "stdout",
     "output_type": "stream",
     "text": [
      "[[ -2.382358     3.3397284    1.90046    ...   0.27497354   1.8201681\n",
      "   30.625206  ]\n",
      " [ -1.2861058    3.7106314    2.0984008  ...   0.40661195   1.7669523\n",
      "   31.19217   ]\n",
      " [  1.163256     0.47965452   1.3500999  ...   0.4007986    1.4658055\n",
      "   28.6985    ]\n",
      " ...\n",
      " [ -1.4638181   -0.1302389    0.5810022  ...  -0.5760632   -3.7945018\n",
      "  -15.542251  ]\n",
      " [ -1.7008191   -0.41146538   0.3437232  ...  -0.5821335   -3.837142\n",
      "  -15.424613  ]\n",
      " [ -1.6719058   -0.6024454    0.6686119  ...  -0.67069095  -3.2371266\n",
      "  -13.011075  ]]\n"
     ]
    }
   ],
   "source": [
    "drop_1_shap_values = explainer_drop_1.shap_values(drop_1_X)\n",
    "print(drop_1_shap_values)"
   ]
  },
  {
   "cell_type": "code",
   "execution_count": 98,
   "metadata": {},
   "outputs": [
    {
     "name": "stdout",
     "output_type": "stream",
     "text": [
      "18.369799\n"
     ]
    }
   ],
   "source": [
    "y_base_drop_1 = explainer_drop_1.expected_value\n",
    "print(y_base_drop_1)\n"
   ]
  },
  {
   "cell_type": "code",
   "execution_count": 99,
   "metadata": {},
   "outputs": [
    {
     "data": {
      "image/png": "[encoded data removed]",
      "text/plain": [
       "<Figure size 576x453.6 with 2 Axes>"
      ]
     },
     "metadata": {
      "needs_background": "light"
     },
     "output_type": "display_data"
    }
   ],
   "source": [
    "shap.summary_plot(drop_1_shap_values, drop_1_X,feature_names=labels,show=False)\n",
    "\n",
    "plt.savefig(\"../../covid-proj/new_figs/segments/m3/shap_moving3_cluster1_drop_1.png\",format=\"png\",bbox_inches='tight')\n",
    "plt.savefig(\"../../covid-proj/new_figs/segments/m3/shap_moving3_cluster1_drop_1.svg\",format=\"svg\",bbox_inches='tight')"
   ]
  },
  {
   "cell_type": "code",
   "execution_count": 100,
   "metadata": {},
   "outputs": [
    {
     "data": {
      "image/png": "[encoded data removed]",
      "text/plain": [
       "<Figure size 576x453.6 with 1 Axes>"
      ]
     },
     "metadata": {
      "needs_background": "light"
     },
     "output_type": "display_data"
    }
   ],
   "source": [
    "shap.summary_plot(drop_1_shap_values, drop_1_X, feature_names=labels, plot_type=\"bar\",show=False)\n",
    "plt.savefig(\"../../covid-proj/new_figs/segments/m3/shap_moving3_cluster1_drop_1_bar.png\",format=\"png\",bbox_inches='tight')\n",
    "plt.savefig(\"../../covid-proj/new_figs/segments/m3/shap_moving3_cluster1_drop_1_bar.svg\",format=\"svg\",bbox_inches='tight')"
   ]
  },
  {
   "cell_type": "code",
   "execution_count": null,
   "metadata": {},
   "outputs": [],
   "source": []
  },
  {
   "cell_type": "markdown",
   "metadata": {},
   "source": [
    "# Cluster 1 Surge 2 Model"
   ]
  },
  {
   "cell_type": "code",
   "execution_count": 101,
   "metadata": {},
   "outputs": [],
   "source": [
    "surge_2_X = surge_2.drop(columns = ['MORB%','Case','log(Case+1)','log(MORB%+1)','city','date','Unnamed: 0', 'Unnamed: 0.1'])\n",
    "surge_2_Y = surge_2['Case'].copy()"
   ]
  },
  {
   "cell_type": "code",
   "execution_count": 102,
   "metadata": {},
   "outputs": [],
   "source": [
    "init_params = {'learning_rate': 0.1, 'n_estimators':50 ,'max_depth': 4, 'min_child_weight': 8, \n",
    "                    'subsample': 0.8, 'colsample_bytree': 0.8, 'gamma': 0, 'reg_alpha': 0, 'reg_lambda': 1}"
   ]
  },
  {
   "cell_type": "code",
   "execution_count": 73,
   "metadata": {},
   "outputs": [],
   "source": [
    "cv_params = {'n_estimators':range(50,500,50)}"
   ]
  },
  {
   "cell_type": "code",
   "execution_count": 81,
   "metadata": {},
   "outputs": [],
   "source": [
    "cv_params = {'n_estimators':[10,20,30,40,50,60,70,80,90,100]}"
   ]
  },
  {
   "cell_type": "code",
   "execution_count": 103,
   "metadata": {},
   "outputs": [],
   "source": [
    "cv_params = {'max_depth': range(2,6,1), 'min_child_weight': range(6,10,1)}"
   ]
  },
  {
   "cell_type": "code",
   "execution_count": 256,
   "metadata": {},
   "outputs": [],
   "source": [
    "cv_params = {'max_depth': [1,2,3,4], 'min_child_weight':[12,13,14,15,16] }"
   ]
  },
  {
   "cell_type": "code",
   "execution_count": 94,
   "metadata": {},
   "outputs": [],
   "source": [
    "cv_params = {'gamma': [0,0.1, 0.2, 0.3, 0.4, 0.5, 0.6,0.7,0.8,0.9,1]}"
   ]
  },
  {
   "cell_type": "code",
   "execution_count": 96,
   "metadata": {},
   "outputs": [],
   "source": [
    "cv_params = {'subsample': [0,0.1,0.2,0.3,0.4,0.5,0.6, 0.7, 0.8, 0.9,1], 'colsample_bytree': [0,0.1,0.2,0.3,0.4,0.5,0.6, 0.7, 0.8, 0.9,1]}"
   ]
  },
  {
   "cell_type": "code",
   "execution_count": 99,
   "metadata": {},
   "outputs": [],
   "source": [
    "cv_params = {'reg_alpha': [0,0.05, 0.1, 1, 2, 3], 'reg_lambda': [0,0.05, 0.1, 1, 2, 3]}"
   ]
  },
  {
   "cell_type": "code",
   "execution_count": 102,
   "metadata": {},
   "outputs": [],
   "source": [
    "cv_params = {'learning_rate': [0.01, 0.03,0.05, 0.07, 0.1, 0.2,0.3]}"
   ]
  },
  {
   "cell_type": "code",
   "execution_count": 104,
   "metadata": {},
   "outputs": [
    {
     "name": "stdout",
     "output_type": "stream",
     "text": [
      "Fitting 5 folds for each of 16 candidates, totalling 80 fits\n"
     ]
    },
    {
     "name": "stderr",
     "output_type": "stream",
     "text": [
      "[Parallel(n_jobs=-1)]: Using backend LokyBackend with 8 concurrent workers.\n",
      "[Parallel(n_jobs=-1)]: Done  34 tasks      | elapsed:   19.6s\n"
     ]
    },
    {
     "name": "stdout",
     "output_type": "stream",
     "text": [
      "[20:44:27] WARNING: C:/Users/Administrator/workspace/xgboost-win64_release_1.3.0/src/learner.cc:541: \n",
      "Parameters: { silent } might not be used.\n",
      "\n",
      "  This may not be accurate due to some parameters are only used in language bindings but\n",
      "  passed down to XGBoost core.  Or some parameters are not used but slip through this\n",
      "  verification. Please open an issue if you find above cases.\n",
      "\n",
      "\n",
      "Results for each iteration:{'mean_fit_time': array([4.37372818, 5.7099318 , 7.81718612, 7.13620276, 5.49443092,\n",
      "       0.22120066, 0.17800026, 0.16159935, 0.22860069, 0.24080181,\n",
      "       0.27120123, 0.23650088, 0.21209426, 0.22116685, 0.42249942,\n",
      "       0.9471261 ]), 'std_fit_time': array([0.04324399, 1.64583289, 0.2062675 , 0.13596216, 2.63353296,\n",
      "       0.01792637, 0.03326248, 0.01738542, 0.01287778, 0.01869118,\n",
      "       0.02076121, 0.00733649, 0.0040451 , 0.01768578, 0.27817286,\n",
      "       0.01352077]), 'mean_score_time': array([0.12060342, 0.13528523, 0.13134966, 0.03779988, 0.00619845,\n",
      "       0.01019983, 0.00839977, 0.00420055, 0.0073997 , 0.0089983 ,\n",
      "       0.00519829, 0.00560093, 0.00340385, 0.00300121, 0.05480013,\n",
      "       0.00360003]), 'std_score_time': array([0.09026701, 0.10844639, 0.06061517, 0.04175391, 0.00386669,\n",
      "       0.00825616, 0.00621622, 0.00203961, 0.00492367, 0.00678017,\n",
      "       0.00256113, 0.00257721, 0.00048896, 0.00089517, 0.06304553,\n",
      "       0.0008011 ]), 'param_max_depth': masked_array(data=[2, 2, 2, 2, 3, 3, 3, 3, 4, 4, 4, 4, 5, 5, 5, 5],\n",
      "             mask=[False, False, False, False, False, False, False, False,\n",
      "                   False, False, False, False, False, False, False, False],\n",
      "       fill_value='?',\n",
      "            dtype=object), 'param_min_child_weight': masked_array(data=[6, 7, 8, 9, 6, 7, 8, 9, 6, 7, 8, 9, 6, 7, 8, 9],\n",
      "             mask=[False, False, False, False, False, False, False, False,\n",
      "                   False, False, False, False, False, False, False, False],\n",
      "       fill_value='?',\n",
      "            dtype=object), 'params': [{'max_depth': 2, 'min_child_weight': 6}, {'max_depth': 2, 'min_child_weight': 7}, {'max_depth': 2, 'min_child_weight': 8}, {'max_depth': 2, 'min_child_weight': 9}, {'max_depth': 3, 'min_child_weight': 6}, {'max_depth': 3, 'min_child_weight': 7}, {'max_depth': 3, 'min_child_weight': 8}, {'max_depth': 3, 'min_child_weight': 9}, {'max_depth': 4, 'min_child_weight': 6}, {'max_depth': 4, 'min_child_weight': 7}, {'max_depth': 4, 'min_child_weight': 8}, {'max_depth': 4, 'min_child_weight': 9}, {'max_depth': 5, 'min_child_weight': 6}, {'max_depth': 5, 'min_child_weight': 7}, {'max_depth': 5, 'min_child_weight': 8}, {'max_depth': 5, 'min_child_weight': 9}], 'split0_test_score': array([-0.50734563, -0.5171458 , -0.42453474, -0.45205866, -0.46467837,\n",
      "       -0.51760716, -0.33555406, -0.34514256, -0.46453655, -0.38947652,\n",
      "       -0.4092224 , -0.35734604, -0.42367114, -0.37509536, -0.37800626,\n",
      "       -0.36787134]), 'split1_test_score': array([0.08089125, 0.1263219 , 0.03566256, 0.05529252, 0.07357976,\n",
      "       0.11132357, 0.08488522, 0.04057603, 0.08868169, 0.06368213,\n",
      "       0.08401108, 0.10604213, 0.1105686 , 0.06352731, 0.08977736,\n",
      "       0.10659922]), 'split2_test_score': array([0.58396235, 0.59187614, 0.50043168, 0.54230976, 0.42565693,\n",
      "       0.48322959, 0.33346206, 0.57614988, 0.34877284, 0.3586492 ,\n",
      "       0.24794829, 0.50786335, 0.29134369, 0.20602913, 0.36304451,\n",
      "       0.50465641]), 'split3_test_score': array([ 0.00231423,  0.14925534, -0.07505291,  0.01982475,  0.21819592,\n",
      "        0.03034046, -0.33196277, -0.00671802,  0.06258605,  0.31985741,\n",
      "       -0.09409348,  0.0927449 , -0.01203646, -0.02868139,  0.12351791,\n",
      "        0.27384064]), 'split4_test_score': array([-358.95123928, -320.25138268, -315.26980108, -292.90142242,\n",
      "       -321.92650948, -323.50175528, -308.96550591, -298.94033151,\n",
      "       -285.5034499 , -287.54825851, -314.43885312, -326.2858987 ,\n",
      "       -279.31450543, -294.78242023, -310.03034665, -343.36562361]), 'mean_test_score': array([-71.75828342, -63.98021502, -63.0466589 , -58.54721081,\n",
      "       -64.33475105, -64.67889376, -61.84293509, -59.73509324,\n",
      "       -57.09358917, -57.43910926, -62.92204192, -65.18731887,\n",
      "       -55.86966015, -58.98332811, -61.96640263, -68.56967974]), 'std_test_score': array([143.59689477, 128.13607184, 126.11191779, 117.1775283 ,\n",
      "       128.79621631, 129.41182629, 123.56154898, 119.60298303,\n",
      "       114.20523587, 115.05488368, 125.75859446, 130.54957713,\n",
      "       111.7226701 , 117.8997017 , 124.03220435, 137.39826996]), 'rank_test_score': array([16, 11, 10,  4, 12, 13,  7,  6,  2,  3,  9, 14,  1,  5,  8, 15])}\n",
      "Best parameters：{'max_depth': 5, 'min_child_weight': 6}\n",
      "Best score:-55.86966014880733\n"
     ]
    },
    {
     "name": "stderr",
     "output_type": "stream",
     "text": [
      "[Parallel(n_jobs=-1)]: Done  80 out of  80 | elapsed:   21.7s finished\n"
     ]
    }
   ],
   "source": [
    "model_surge_2 = xgb.XGBRegressor(booster='gbtree',objective = 'reg:squarederror', silent=False, seed=0,**init_params)\n",
    "optimized_xgb = GridSearchCV(estimator=model_surge_2, param_grid=cv_params, scoring='r2', cv=5, verbose=1, n_jobs=-1)\n",
    "optimized_xgb.fit(surge_2_X, surge_2_Y)\n",
    "evalute_result = optimized_xgb.cv_results_\n",
    "print('Results for each iteration:{0}'.format(evalute_result))\n",
    "print('Best parameters：{0}'.format(optimized_xgb.best_params_))\n",
    "print('Best score:{0}'.format(optimized_xgb.best_score_))"
   ]
  },
  {
   "cell_type": "code",
   "execution_count": 105,
   "metadata": {},
   "outputs": [],
   "source": [
    "test3 = xgb.XGBRegressor(booster='gbtree',objective = 'reg:squarederror', silent=False, seed=0,**init_params)"
   ]
  },
  {
   "cell_type": "code",
   "execution_count": 106,
   "metadata": {},
   "outputs": [
    {
     "name": "stdout",
     "output_type": "stream",
     "text": [
      "[20:45:05] WARNING: C:/Users/Administrator/workspace/xgboost-win64_release_1.3.0/src/learner.cc:541: \n",
      "Parameters: { silent } might not be used.\n",
      "\n",
      "  This may not be accurate due to some parameters are only used in language bindings but\n",
      "  passed down to XGBoost core.  Or some parameters are not used but slip through this\n",
      "  verification. Please open an issue if you find above cases.\n",
      "\n",
      "\n"
     ]
    },
    {
     "data": {
      "text/plain": [
       "XGBRegressor(base_score=0.5, booster='gbtree', colsample_bylevel=1,\n",
       "             colsample_bynode=1, colsample_bytree=0.8, gamma=0, gpu_id=-1,\n",
       "             importance_type='gain', interaction_constraints='',\n",
       "             learning_rate=0.1, max_delta_step=0, max_depth=4,\n",
       "             min_child_weight=8, missing=nan, monotone_constraints='()',\n",
       "             n_estimators=50, n_jobs=8, num_parallel_tree=1, random_state=0,\n",
       "             reg_alpha=0, reg_lambda=1, scale_pos_weight=1, seed=0,\n",
       "             silent=False, subsample=0.8, tree_method='exact',\n",
       "             validate_parameters=1, verbosity=None)"
      ]
     },
     "execution_count": 106,
     "metadata": {},
     "output_type": "execute_result"
    }
   ],
   "source": [
    "test3.fit(surge_2_X, surge_2_Y)"
   ]
  },
  {
   "cell_type": "code",
   "execution_count": 107,
   "metadata": {
    "scrolled": true
   },
   "outputs": [
    {
     "data": {
      "text/plain": [
       "0.9265758065888599"
      ]
     },
     "execution_count": 107,
     "metadata": {},
     "output_type": "execute_result"
    }
   ],
   "source": [
    "r2 = r2_score(surge_2_Y,test3.predict(surge_2_X))\n",
    "r2"
   ]
  },
  {
   "cell_type": "code",
   "execution_count": 108,
   "metadata": {},
   "outputs": [
    {
     "data": {
      "text/plain": [
       "{'HUM': 23127.983098710003,\n",
       " 'elapsed': 16175.907013491997,\n",
       " 'SO2': 730.5069982400001,\n",
       " 'O3': 808.5896711999999,\n",
       " 'PM2.5': 3837.6089122000003,\n",
       " 'WSPD': 1414.4010312999994,\n",
       " 'TEMP': 5601.242480700001,\n",
       " 'PRES': 2022.2613782699998,\n",
       " 'ACTV': 1444.91288578,\n",
       " 'CO': 725.2670192500001,\n",
       " 'PM10': 1710.1565565710005,\n",
       " 'NO2': 577.4067216999999}"
      ]
     },
     "execution_count": 108,
     "metadata": {},
     "output_type": "execute_result"
    }
   ],
   "source": [
    "test3.get_booster().get_score(importance_type=\"total_gain\")"
   ]
  },
  {
   "cell_type": "code",
   "execution_count": 109,
   "metadata": {},
   "outputs": [],
   "source": [
    "surge_2_p = permutation_importance(test3, surge_2_X, surge_2_Y, n_repeats=10,random_state=0)"
   ]
  },
  {
   "cell_type": "code",
   "execution_count": 110,
   "metadata": {},
   "outputs": [
    {
     "data": {
      "text/plain": [
       "{'importances_mean': array([0.05409354, 0.02738709, 0.01215024, 0.00770299, 0.01345956,\n",
       "        0.01688268, 0.31961557, 0.05221098, 0.07811639, 0.05643386,\n",
       "        0.03252293, 0.61328917]),\n",
       " 'importances_std': array([0.00794754, 0.0048804 , 0.00162796, 0.00195358, 0.00181637,\n",
       "        0.00218551, 0.03801401, 0.00651974, 0.00906173, 0.01449477,\n",
       "        0.00385481, 0.07179493]),\n",
       " 'importances': array([[0.06184588, 0.04024494, 0.05622253, 0.05258033, 0.04564902,\n",
       "         0.05852732, 0.06440928, 0.05172487, 0.06405103, 0.04568024],\n",
       "        [0.03015844, 0.03092287, 0.02708588, 0.01614076, 0.02154137,\n",
       "         0.02871766, 0.02543375, 0.03201186, 0.02931816, 0.03254019],\n",
       "        [0.01177507, 0.01068454, 0.01330096, 0.01386083, 0.01153329,\n",
       "         0.01058308, 0.0094122 , 0.01245226, 0.01271326, 0.01518692],\n",
       "        [0.00780812, 0.005897  , 0.00461575, 0.00942578, 0.00543768,\n",
       "         0.00758511, 0.00647214, 0.00963546, 0.00947152, 0.01068133],\n",
       "        [0.01644566, 0.01405713, 0.01296455, 0.01211602, 0.01010124,\n",
       "         0.01371828, 0.01341472, 0.01580194, 0.01150663, 0.01446946],\n",
       "        [0.02024411, 0.01646541, 0.01426544, 0.01620483, 0.01259156,\n",
       "         0.0168252 , 0.01772335, 0.01906957, 0.01907473, 0.01636261],\n",
       "        [0.30750217, 0.2462196 , 0.29354743, 0.35857129, 0.28182882,\n",
       "         0.3338461 , 0.37816857, 0.30462108, 0.35101506, 0.34083559],\n",
       "        [0.05879612, 0.04542964, 0.03965585, 0.06041266, 0.05893589,\n",
       "         0.05005231, 0.04571257, 0.05467583, 0.052709  , 0.05572995],\n",
       "        [0.07691883, 0.07435157, 0.08490727, 0.06170817, 0.08806826,\n",
       "         0.08611918, 0.08736909, 0.0631691 , 0.07650249, 0.08204993],\n",
       "        [0.04484068, 0.06918497, 0.05055702, 0.04151631, 0.06943   ,\n",
       "         0.03543599, 0.0861702 , 0.05740772, 0.05004018, 0.05975555],\n",
       "        [0.0335642 , 0.0313362 , 0.03106525, 0.03537936, 0.02816233,\n",
       "         0.0350889 , 0.02653303, 0.04101765, 0.03118564, 0.03189674],\n",
       "        [0.70263891, 0.45037771, 0.60721318, 0.6628707 , 0.60491706,\n",
       "         0.68841617, 0.66408455, 0.58660935, 0.62572491, 0.54003921]])}"
      ]
     },
     "execution_count": 110,
     "metadata": {},
     "output_type": "execute_result"
    }
   ],
   "source": [
    "surge_2_p"
   ]
  },
  {
   "cell_type": "code",
   "execution_count": 111,
   "metadata": {},
   "outputs": [],
   "source": [
    "surge_2_pd = {}"
   ]
  },
  {
   "cell_type": "code",
   "execution_count": 112,
   "metadata": {},
   "outputs": [],
   "source": [
    "c= 0\n",
    "for i in labels:\n",
    "    surge_2_pd[i] = surge_2_p['importances_mean'][c]\n",
    "    c = c + 1"
   ]
  },
  {
   "cell_type": "code",
   "execution_count": 113,
   "metadata": {},
   "outputs": [
    {
     "data": {
      "text/plain": [
       "{'PM2.5': 0.05409354242538461,\n",
       " 'PM10': 0.027387094629894783,\n",
       " 'SO${_2}$': 0.012150242300809166,\n",
       " 'CO': 0.0077029888889554535,\n",
       " 'NO${_2}$': 0.013459563145382204,\n",
       " 'O${_3}$': 0.016882680645006774,\n",
       " 'Relative humidity': 0.31961557211368596,\n",
       " 'Atmospheric pressure': 0.05221098175323609,\n",
       " 'Wind speed': 0.07811638857686301,\n",
       " 'Air temperature': 0.05643386258030734,\n",
       " 'Degree of activeness': 0.03252292984142837,\n",
       " 'Days elapsed': 0.6132891747527478}"
      ]
     },
     "execution_count": 113,
     "metadata": {},
     "output_type": "execute_result"
    }
   ],
   "source": [
    "surge_2_pd"
   ]
  },
  {
   "cell_type": "code",
   "execution_count": 114,
   "metadata": {},
   "outputs": [],
   "source": [
    "explainer_surge_2 = shap.TreeExplainer(test3)"
   ]
  },
  {
   "cell_type": "code",
   "execution_count": 115,
   "metadata": {},
   "outputs": [
    {
     "name": "stdout",
     "output_type": "stream",
     "text": [
      "[[ 0.05393872 -0.36930138 -0.11153249 ...  0.05634276  0.3386081\n",
      "  -3.2055664 ]\n",
      " [ 0.03668196 -0.32053566 -0.10572816 ...  0.05574841  0.15700532\n",
      "  -3.150194  ]\n",
      " [ 0.41766202 -0.2689582  -0.09520932 ...  0.09627934 -0.24579415\n",
      "  -3.1218317 ]\n",
      " ...\n",
      " [-1.603474    0.19881016 -0.1699334  ... -1.8265537  -0.24717182\n",
      "   8.844283  ]\n",
      " [-1.603474    0.17014545 -0.1699334  ... -1.8865812  -0.48000568\n",
      "   8.844283  ]\n",
      " [-1.6163756   0.38814554 -0.1699334  ... -1.8784806  -0.71420443\n",
      "   9.238854  ]]\n"
     ]
    }
   ],
   "source": [
    "surge_2_shap_values = explainer_surge_2.shap_values(surge_2_X)\n",
    "print(surge_2_shap_values)"
   ]
  },
  {
   "cell_type": "code",
   "execution_count": 116,
   "metadata": {},
   "outputs": [
    {
     "name": "stdout",
     "output_type": "stream",
     "text": [
      "4.649479\n"
     ]
    }
   ],
   "source": [
    "y_base_surge_2 = explainer_surge_2.expected_value\n",
    "print(y_base_surge_2)\n"
   ]
  },
  {
   "cell_type": "code",
   "execution_count": 117,
   "metadata": {},
   "outputs": [
    {
     "data": {
      "image/png": "[encoded data removed]",
      "text/plain": [
       "<Figure size 576x453.6 with 2 Axes>"
      ]
     },
     "metadata": {
      "needs_background": "light"
     },
     "output_type": "display_data"
    }
   ],
   "source": [
    "shap.summary_plot(surge_2_shap_values, surge_2_X,feature_names=labels,show=False)\n",
    "\n",
    "plt.savefig(\"../../covid-proj/new_figs/segments/m3/shap_moving3_cluster1_surge_2.png\",format=\"png\",bbox_inches='tight')\n",
    "plt.savefig(\"../../covid-proj/new_figs/segments/m3/shap_moving3_cluster1_surge_2.svg\",format=\"svg\",bbox_inches='tight')"
   ]
  },
  {
   "cell_type": "code",
   "execution_count": 118,
   "metadata": {},
   "outputs": [
    {
     "data": {
      "image/png": "[encoded data removed]",
      "text/plain": [
       "<Figure size 576x453.6 with 1 Axes>"
      ]
     },
     "metadata": {
      "needs_background": "light"
     },
     "output_type": "display_data"
    }
   ],
   "source": [
    "shap.summary_plot(surge_2_shap_values, surge_2_X, feature_names=labels, plot_type=\"bar\",show=False)\n",
    "plt.savefig(\"../../covid-proj/new_figs/segments/m3/shap_moving3_cluster1_surge_2_bar.png\",format=\"png\",bbox_inches='tight')\n",
    "plt.savefig(\"../../covid-proj/new_figs/segments/m3/shap_moving3_cluster1_surge_2_bar.svg\",format=\"svg\",bbox_inches='tight')"
   ]
  },
  {
   "cell_type": "code",
   "execution_count": null,
   "metadata": {},
   "outputs": [],
   "source": []
  },
  {
   "cell_type": "markdown",
   "metadata": {},
   "source": [
    "# Cluster 1 Drop 2 Model"
   ]
  },
  {
   "cell_type": "code",
   "execution_count": 119,
   "metadata": {},
   "outputs": [],
   "source": [
    "drop_2_X = drop_2.drop(columns = ['MORB%','Case','log(Case+1)','log(MORB%+1)','city','date','Unnamed: 0', 'Unnamed: 0.1'])\n",
    "drop_2_Y = drop_2['Case'].copy()"
   ]
  },
  {
   "cell_type": "code",
   "execution_count": 120,
   "metadata": {},
   "outputs": [],
   "source": [
    "init_params = {'learning_rate': 0.1, 'n_estimators':50 ,'max_depth': 4, 'min_child_weight': 8, \n",
    "                    'subsample': 0.8, 'colsample_bytree': 0.8, 'gamma': 0, 'reg_alpha': 0, 'reg_lambda': 1}"
   ]
  },
  {
   "cell_type": "code",
   "execution_count": 73,
   "metadata": {},
   "outputs": [],
   "source": [
    "cv_params = {'n_estimators':range(50,500,50)}"
   ]
  },
  {
   "cell_type": "code",
   "execution_count": 81,
   "metadata": {},
   "outputs": [],
   "source": [
    "cv_params = {'n_estimators':[10,20,30,40,50,60,70,80,90,100]}"
   ]
  },
  {
   "cell_type": "code",
   "execution_count": 121,
   "metadata": {},
   "outputs": [],
   "source": [
    "cv_params = {'max_depth': range(2,6,1), 'min_child_weight': range(6,10,1)}"
   ]
  },
  {
   "cell_type": "code",
   "execution_count": 256,
   "metadata": {},
   "outputs": [],
   "source": [
    "cv_params = {'max_depth': [1,2,3,4], 'min_child_weight':[12,13,14,15,16] }"
   ]
  },
  {
   "cell_type": "code",
   "execution_count": 94,
   "metadata": {},
   "outputs": [],
   "source": [
    "cv_params = {'gamma': [0,0.1, 0.2, 0.3, 0.4, 0.5, 0.6,0.7,0.8,0.9,1]}"
   ]
  },
  {
   "cell_type": "code",
   "execution_count": 96,
   "metadata": {},
   "outputs": [],
   "source": [
    "cv_params = {'subsample': [0,0.1,0.2,0.3,0.4,0.5,0.6, 0.7, 0.8, 0.9,1], 'colsample_bytree': [0,0.1,0.2,0.3,0.4,0.5,0.6, 0.7, 0.8, 0.9,1]}"
   ]
  },
  {
   "cell_type": "code",
   "execution_count": 99,
   "metadata": {},
   "outputs": [],
   "source": [
    "cv_params = {'reg_alpha': [0,0.05, 0.1, 1, 2, 3], 'reg_lambda': [0,0.05, 0.1, 1, 2, 3]}"
   ]
  },
  {
   "cell_type": "code",
   "execution_count": 102,
   "metadata": {},
   "outputs": [],
   "source": [
    "cv_params = {'learning_rate': [0.01, 0.03,0.05, 0.07, 0.1, 0.2,0.3]}"
   ]
  },
  {
   "cell_type": "code",
   "execution_count": 122,
   "metadata": {},
   "outputs": [
    {
     "name": "stdout",
     "output_type": "stream",
     "text": [
      "Fitting 5 folds for each of 16 candidates, totalling 80 fits\n"
     ]
    },
    {
     "name": "stderr",
     "output_type": "stream",
     "text": [
      "[Parallel(n_jobs=-1)]: Using backend LokyBackend with 8 concurrent workers.\n",
      "[Parallel(n_jobs=-1)]: Done  34 tasks      | elapsed:   35.6s\n"
     ]
    },
    {
     "name": "stdout",
     "output_type": "stream",
     "text": [
      "[20:49:52] WARNING: C:/Users/Administrator/workspace/xgboost-win64_release_1.3.0/src/learner.cc:541: \n",
      "Parameters: { silent } might not be used.\n",
      "\n",
      "  This may not be accurate due to some parameters are only used in language bindings but\n",
      "  passed down to XGBoost core.  Or some parameters are not used but slip through this\n",
      "  verification. Please open an issue if you find above cases.\n",
      "\n",
      "\n",
      "Results for each iteration:{'mean_fit_time': array([22.97550941, 13.81714115,  0.08981061,  3.58975921, 10.48276181,\n",
      "        5.20530806,  0.40445461,  0.15200047,  0.1787991 ,  0.1853991 ,\n",
      "        0.17680092,  0.16919088,  0.19761152,  0.18635297,  0.16370969,\n",
      "        0.23074365]), 'std_fit_time': array([2.49934586e-02, 1.11847084e+01, 6.87317209e-03, 1.42706166e+00,\n",
      "       1.18969597e+00, 3.25498314e+00, 3.85994544e-01, 6.98571260e-03,\n",
      "       1.62048319e-02, 9.52063455e-03, 8.90701511e-03, 7.55961056e-03,\n",
      "       1.14924268e-02, 1.01066990e-02, 4.47006908e-03, 2.18246131e-01]), 'mean_score_time': array([0.01799917, 0.0465363 , 0.01107297, 0.0812449 , 0.1587851 ,\n",
      "       0.00760031, 0.00379882, 0.00559835, 0.00699949, 0.00520167,\n",
      "       0.00300021, 0.00639877, 0.00639906, 0.00379896, 0.00400047,\n",
      "       0.00360374]), 'std_score_time': array([0.00800128, 0.0505426 , 0.00315513, 0.04378475, 0.12345363,\n",
      "       0.00355587, 0.00075008, 0.0032604 , 0.00433564, 0.0027863 ,\n",
      "       0.00063256, 0.0042712 , 0.003611  , 0.00116577, 0.0020966 ,\n",
      "       0.00224374]), 'param_max_depth': masked_array(data=[2, 2, 2, 2, 3, 3, 3, 3, 4, 4, 4, 4, 5, 5, 5, 5],\n",
      "             mask=[False, False, False, False, False, False, False, False,\n",
      "                   False, False, False, False, False, False, False, False],\n",
      "       fill_value='?',\n",
      "            dtype=object), 'param_min_child_weight': masked_array(data=[6, 7, 8, 9, 6, 7, 8, 9, 6, 7, 8, 9, 6, 7, 8, 9],\n",
      "             mask=[False, False, False, False, False, False, False, False,\n",
      "                   False, False, False, False, False, False, False, False],\n",
      "       fill_value='?',\n",
      "            dtype=object), 'params': [{'max_depth': 2, 'min_child_weight': 6}, {'max_depth': 2, 'min_child_weight': 7}, {'max_depth': 2, 'min_child_weight': 8}, {'max_depth': 2, 'min_child_weight': 9}, {'max_depth': 3, 'min_child_weight': 6}, {'max_depth': 3, 'min_child_weight': 7}, {'max_depth': 3, 'min_child_weight': 8}, {'max_depth': 3, 'min_child_weight': 9}, {'max_depth': 4, 'min_child_weight': 6}, {'max_depth': 4, 'min_child_weight': 7}, {'max_depth': 4, 'min_child_weight': 8}, {'max_depth': 4, 'min_child_weight': 9}, {'max_depth': 5, 'min_child_weight': 6}, {'max_depth': 5, 'min_child_weight': 7}, {'max_depth': 5, 'min_child_weight': 8}, {'max_depth': 5, 'min_child_weight': 9}], 'split0_test_score': array([-1.88090795, -1.86417226, -1.91045283, -1.93812511, -1.83182472,\n",
      "       -1.86437428, -1.90760426, -1.92810708, -1.86140851, -1.89701648,\n",
      "       -1.91429416, -1.92899686, -1.87701145, -1.89958912, -1.89697729,\n",
      "       -1.91573888]), 'split1_test_score': array([-1.1437772 , -0.9092608 , -0.90200669, -0.63200951, -0.90589485,\n",
      "       -0.66850708, -0.71000953, -0.58591923, -0.58161589, -0.75908321,\n",
      "       -0.59594545, -0.51704607, -0.57002686, -0.70868302, -0.51159485,\n",
      "       -0.55703544]), 'split2_test_score': array([ -6.98947145, -10.41459881,  -8.14641699,  -7.87648879,\n",
      "        -7.55156958,  -9.81574472,  -8.7525831 ,  -8.02755604,\n",
      "        -8.79887673, -10.46900133,  -8.6096475 ,  -7.86945733,\n",
      "        -8.38337829, -11.07362315,  -7.75487178,  -7.93431499]), 'split3_test_score': array([-37.71119448, -39.85318647, -42.03524415, -43.93778822,\n",
      "       -65.42356835, -59.72859051, -53.50284835, -58.90261177,\n",
      "       -68.16132531, -53.58389888, -55.73306374, -55.53770961,\n",
      "       -67.50052142, -54.19064601, -55.82244285, -56.05696963]), 'split4_test_score': array([-200.84143258, -218.49661625, -159.5565809 ,  -94.81022734,\n",
      "       -197.22825533, -171.59721558, -218.7818326 , -139.51603943,\n",
      "       -147.64516551, -124.91134665, -193.50260442, -159.42609203,\n",
      "       -154.27544117, -176.51905506, -265.96432674, -174.76401863]), 'mean_test_score': array([-49.71335673, -54.30756692, -42.51014031, -29.83892779,\n",
      "       -54.58822257, -48.73488643, -56.73097557, -41.79204671,\n",
      "       -45.40967839, -38.32406931, -52.07111105, -45.05586038,\n",
      "       -46.52127584, -48.87831927, -66.39004271, -48.24561552]), 'std_test_score': array([ 76.75418528,  83.30096569,  60.43265949,  36.14939895,\n",
      "        75.28752913,  65.17351422,  83.32679988,  53.42259755,\n",
      "        56.94925822,  47.42189825,  73.58066999,  60.69082296,\n",
      "        59.34680404,  66.74861532, 101.86164898,  66.50350768]), 'rank_test_score': array([11, 13,  4,  1, 14,  9, 15,  3,  6,  2, 12,  5,  7, 10, 16,  8])}\n",
      "Best parameters：{'max_depth': 2, 'min_child_weight': 9}\n",
      "Best score:-29.838927793187544\n"
     ]
    },
    {
     "name": "stderr",
     "output_type": "stream",
     "text": [
      "[Parallel(n_jobs=-1)]: Done  80 out of  80 | elapsed:   37.2s finished\n"
     ]
    }
   ],
   "source": [
    "model_drop_2 = xgb.XGBRegressor(booster='gbtree',objective = 'reg:squarederror', silent=False, seed=0,**init_params)\n",
    "optimized_xgb = GridSearchCV(estimator=model_drop_2, param_grid=cv_params, scoring='r2', cv=5, verbose=1, n_jobs=-1)\n",
    "optimized_xgb.fit(drop_2_X, drop_2_Y)\n",
    "evalute_result = optimized_xgb.cv_results_\n",
    "print('Results for each iteration:{0}'.format(evalute_result))\n",
    "print('Best parameters：{0}'.format(optimized_xgb.best_params_))\n",
    "print('Best score:{0}'.format(optimized_xgb.best_score_))"
   ]
  },
  {
   "cell_type": "code",
   "execution_count": 123,
   "metadata": {},
   "outputs": [],
   "source": [
    "test4 = xgb.XGBRegressor(booster='gbtree',objective = 'reg:squarederror', silent=False, seed=0,**init_params)"
   ]
  },
  {
   "cell_type": "code",
   "execution_count": 124,
   "metadata": {},
   "outputs": [
    {
     "name": "stdout",
     "output_type": "stream",
     "text": [
      "[20:50:00] WARNING: C:/Users/Administrator/workspace/xgboost-win64_release_1.3.0/src/learner.cc:541: \n",
      "Parameters: { silent } might not be used.\n",
      "\n",
      "  This may not be accurate due to some parameters are only used in language bindings but\n",
      "  passed down to XGBoost core.  Or some parameters are not used but slip through this\n",
      "  verification. Please open an issue if you find above cases.\n",
      "\n",
      "\n"
     ]
    },
    {
     "data": {
      "text/plain": [
       "XGBRegressor(base_score=0.5, booster='gbtree', colsample_bylevel=1,\n",
       "             colsample_bynode=1, colsample_bytree=0.8, gamma=0, gpu_id=-1,\n",
       "             importance_type='gain', interaction_constraints='',\n",
       "             learning_rate=0.1, max_delta_step=0, max_depth=4,\n",
       "             min_child_weight=8, missing=nan, monotone_constraints='()',\n",
       "             n_estimators=50, n_jobs=8, num_parallel_tree=1, random_state=0,\n",
       "             reg_alpha=0, reg_lambda=1, scale_pos_weight=1, seed=0,\n",
       "             silent=False, subsample=0.8, tree_method='exact',\n",
       "             validate_parameters=1, verbosity=None)"
      ]
     },
     "execution_count": 124,
     "metadata": {},
     "output_type": "execute_result"
    }
   ],
   "source": [
    "test4.fit(drop_2_X, drop_2_Y)"
   ]
  },
  {
   "cell_type": "code",
   "execution_count": 125,
   "metadata": {
    "scrolled": true
   },
   "outputs": [
    {
     "data": {
      "text/plain": [
       "0.9490436546043284"
      ]
     },
     "execution_count": 125,
     "metadata": {},
     "output_type": "execute_result"
    }
   ],
   "source": [
    "r2 = r2_score(drop_2_Y,test4.predict(drop_2_X))\n",
    "r2"
   ]
  },
  {
   "cell_type": "code",
   "execution_count": 126,
   "metadata": {},
   "outputs": [
    {
     "data": {
      "text/plain": [
       "{'WSPD': 18839.041718899996,\n",
       " 'elapsed': 13431.608228709996,\n",
       " 'ACTV': 6077.332920369999,\n",
       " 'NO2': 1187.9592154199997,\n",
       " 'O3': 1420.1307559900001,\n",
       " 'PRES': 7600.187140449997,\n",
       " 'PM10': 6810.156980400001,\n",
       " 'CO': 1295.2366992199998,\n",
       " 'TEMP': 758.9711793199998,\n",
       " 'SO2': 4349.4941129,\n",
       " 'HUM': 1238.1602087899994,\n",
       " 'PM2.5': 2402.508667779999}"
      ]
     },
     "execution_count": 126,
     "metadata": {},
     "output_type": "execute_result"
    }
   ],
   "source": [
    "test4.get_booster().get_score(importance_type=\"total_gain\")"
   ]
  },
  {
   "cell_type": "code",
   "execution_count": 127,
   "metadata": {},
   "outputs": [],
   "source": [
    "drop_2_p = permutation_importance(test4, drop_2_X, drop_2_Y, n_repeats=10,random_state=0)"
   ]
  },
  {
   "cell_type": "code",
   "execution_count": 128,
   "metadata": {},
   "outputs": [
    {
     "data": {
      "text/plain": [
       "{'importances_mean': array([0.02857489, 0.09953103, 0.05007281, 0.00937084, 0.01115109,\n",
       "        0.01110368, 0.00750527, 0.17002425, 0.61622128, 0.00638696,\n",
       "        0.10131548, 0.34441026]),\n",
       " 'importances_std': array([0.00337586, 0.00753581, 0.01064777, 0.00257427, 0.00171806,\n",
       "        0.00264909, 0.00186735, 0.02661943, 0.15052283, 0.00093217,\n",
       "        0.01432412, 0.06683121]),\n",
       " 'importances': array([[0.02610757, 0.03366248, 0.02958795, 0.03161113, 0.02475077,\n",
       "         0.0289254 , 0.02426794, 0.02531124, 0.03378142, 0.02774304],\n",
       "        [0.11357552, 0.1000002 , 0.10194027, 0.09213743, 0.09338467,\n",
       "         0.10223193, 0.09814957, 0.1048328 , 0.10414185, 0.08491606],\n",
       "        [0.05373405, 0.04949901, 0.04544143, 0.04392286, 0.06164448,\n",
       "         0.07504802, 0.04480306, 0.0483408 , 0.03505022, 0.04324414],\n",
       "        [0.00968297, 0.0066357 , 0.01113214, 0.00848932, 0.01352229,\n",
       "         0.0121547 , 0.00773518, 0.01183119, 0.00720429, 0.00532065],\n",
       "        [0.00937369, 0.01036981, 0.01190556, 0.00974629, 0.01340587,\n",
       "         0.01348021, 0.00858343, 0.01004715, 0.01335946, 0.01123948],\n",
       "        [0.01354004, 0.01396398, 0.00599585, 0.00650532, 0.01170217,\n",
       "         0.01001241, 0.01185024, 0.01290985, 0.01168865, 0.01286832],\n",
       "        [0.0090817 , 0.00759142, 0.00578043, 0.00551772, 0.00659938,\n",
       "         0.01100149, 0.0055825 , 0.00570345, 0.00954164, 0.00865295],\n",
       "        [0.10823664, 0.18742168, 0.16242923, 0.19558627, 0.15274291,\n",
       "         0.17279634, 0.18196706, 0.18365146, 0.205108  , 0.15030291],\n",
       "        [0.72501789, 0.3709032 , 0.47952152, 0.60691321, 0.61552172,\n",
       "         0.94584347, 0.66738782, 0.70042751, 0.54655922, 0.50411726],\n",
       "        [0.0055671 , 0.00840533, 0.00713106, 0.00543171, 0.00678567,\n",
       "         0.00640909, 0.00697277, 0.00524295, 0.00635224, 0.0055717 ],\n",
       "        [0.1003997 , 0.08310319, 0.12606088, 0.10243413, 0.11980353,\n",
       "         0.08718971, 0.09226245, 0.11280404, 0.08317275, 0.10592442],\n",
       "        [0.41198545, 0.43128095, 0.32595917, 0.23018502, 0.33913401,\n",
       "         0.32722226, 0.45746497, 0.29863688, 0.34066875, 0.28156517]])}"
      ]
     },
     "execution_count": 128,
     "metadata": {},
     "output_type": "execute_result"
    }
   ],
   "source": [
    "drop_2_p"
   ]
  },
  {
   "cell_type": "code",
   "execution_count": 129,
   "metadata": {},
   "outputs": [],
   "source": [
    "drop_2_pd = {}"
   ]
  },
  {
   "cell_type": "code",
   "execution_count": 130,
   "metadata": {},
   "outputs": [],
   "source": [
    "c= 0\n",
    "for i in labels:\n",
    "    drop_2_pd[i] = drop_2_p['importances_mean'][c]\n",
    "    c = c + 1"
   ]
  },
  {
   "cell_type": "code",
   "execution_count": 131,
   "metadata": {},
   "outputs": [
    {
     "data": {
      "text/plain": [
       "{'PM2.5': 0.02857489403951121,\n",
       " 'PM10': 0.09953103020529394,\n",
       " 'SO${_2}$': 0.050072805852178895,\n",
       " 'CO': 0.009370843503907433,\n",
       " 'NO${_2}$': 0.01115109307638249,\n",
       " 'O${_3}$': 0.011103683563416955,\n",
       " 'Relative humidity': 0.0075052673646602616,\n",
       " 'Atmospheric pressure': 0.1700242512179948,\n",
       " 'Wind speed': 0.6162212825852739,\n",
       " 'Air temperature': 0.0063869620526647575,\n",
       " 'Degree of activeness': 0.10131548144446686,\n",
       " 'Days elapsed': 0.34441026266606845}"
      ]
     },
     "execution_count": 131,
     "metadata": {},
     "output_type": "execute_result"
    }
   ],
   "source": [
    "drop_2_pd"
   ]
  },
  {
   "cell_type": "code",
   "execution_count": 132,
   "metadata": {},
   "outputs": [],
   "source": [
    "explainer_drop_2 = shap.TreeExplainer(test4)"
   ]
  },
  {
   "cell_type": "code",
   "execution_count": 133,
   "metadata": {},
   "outputs": [
    {
     "name": "stdout",
     "output_type": "stream",
     "text": [
      "[[ 0.19858451  3.03693     2.4336205  ...  0.1493801  -1.3328533\n",
      "   7.651204  ]\n",
      " [-0.1901327   2.514773    3.116732   ... -0.14066917 -1.1181042\n",
      "   8.26055   ]\n",
      " [ 0.43805853  2.514773    2.6673176  ... -0.15739636 -0.8646791\n",
      "   7.5614967 ]\n",
      " ...\n",
      " [-0.95170385 -1.0283785  -0.14110751 ...  0.01194574 -0.9295558\n",
      "  -1.9770194 ]\n",
      " [-0.874961   -1.0283785   0.24356346 ...  0.02030682 -0.82730085\n",
      "  -1.9938512 ]\n",
      " [-1.1238825  -0.9444285   0.78863096 ... -0.23904255 -1.0947928\n",
      "  -1.867488  ]]\n"
     ]
    }
   ],
   "source": [
    "drop_2_shap_values = explainer_drop_2.shap_values(drop_2_X)\n",
    "print(drop_2_shap_values)"
   ]
  },
  {
   "cell_type": "code",
   "execution_count": 134,
   "metadata": {},
   "outputs": [
    {
     "name": "stdout",
     "output_type": "stream",
     "text": [
      "8.701864\n"
     ]
    }
   ],
   "source": [
    "y_base_drop_2 = explainer_drop_2.expected_value\n",
    "print(y_base_drop_2)\n"
   ]
  },
  {
   "cell_type": "code",
   "execution_count": 135,
   "metadata": {},
   "outputs": [
    {
     "data": {
      "image/png": "[encoded data removed]",
      "text/plain": [
       "<Figure size 576x453.6 with 2 Axes>"
      ]
     },
     "metadata": {
      "needs_background": "light"
     },
     "output_type": "display_data"
    }
   ],
   "source": [
    "shap.summary_plot(drop_2_shap_values, drop_2_X,feature_names=labels,show=False)\n",
    "\n",
    "plt.savefig(\"../../covid-proj/new_figs/segments/m3/shap_moving3_cluster1_drop_2.png\",format=\"png\",bbox_inches='tight')\n",
    "plt.savefig(\"../../covid-proj/new_figs/segments/m3/shap_moving3_cluster1_drop_2.svg\",format=\"svg\",bbox_inches='tight')"
   ]
  },
  {
   "cell_type": "code",
   "execution_count": 136,
   "metadata": {},
   "outputs": [
    {
     "data": {
      "image/png": "[encoded data removed]",
      "text/plain": [
       "<Figure size 576x453.6 with 1 Axes>"
      ]
     },
     "metadata": {
      "needs_background": "light"
     },
     "output_type": "display_data"
    }
   ],
   "source": [
    "shap.summary_plot(drop_2_shap_values, drop_2_X, feature_names=labels, plot_type=\"bar\",show=False)\n",
    "plt.savefig(\"../../covid-proj/new_figs/segments/m3/shap_moving3_cluster1_drop_2_bar.png\",format=\"png\",bbox_inches='tight')\n",
    "plt.savefig(\"../../covid-proj/new_figs/segments/m3/shap_moving3_cluster1_drop_2_bar.svg\",format=\"svg\",bbox_inches='tight')"
   ]
  },
  {
   "cell_type": "markdown",
   "metadata": {},
   "source": [
    "# Cluster 1 Wave 1 Model"
   ]
  },
  {
   "cell_type": "code",
   "execution_count": 137,
   "metadata": {},
   "outputs": [],
   "source": [
    "wave_1_X = wave_1.drop(columns = ['MORB%','Case','log(Case+1)','log(MORB%+1)','city','date','Unnamed: 0', 'Unnamed: 0.1'])\n",
    "wave_1_Y = wave_1['Case'].copy()"
   ]
  },
  {
   "cell_type": "code",
   "execution_count": 138,
   "metadata": {},
   "outputs": [],
   "source": [
    "init_params = {'learning_rate': 0.1, 'n_estimators':50 ,'max_depth': 4, 'min_child_weight': 8, \n",
    "                    'subsample': 0.8, 'colsample_bytree': 0.8, 'gamma': 0, 'reg_alpha': 0, 'reg_lambda': 1}"
   ]
  },
  {
   "cell_type": "code",
   "execution_count": 73,
   "metadata": {},
   "outputs": [],
   "source": [
    "cv_params = {'n_estimators':range(50,500,50)}"
   ]
  },
  {
   "cell_type": "code",
   "execution_count": 81,
   "metadata": {},
   "outputs": [],
   "source": [
    "cv_params = {'n_estimators':[10,20,30,40,50,60,70,80,90,100]}"
   ]
  },
  {
   "cell_type": "code",
   "execution_count": 139,
   "metadata": {},
   "outputs": [],
   "source": [
    "cv_params = {'max_depth': range(2,6,1), 'min_child_weight': range(6,10,1)}"
   ]
  },
  {
   "cell_type": "code",
   "execution_count": 256,
   "metadata": {},
   "outputs": [],
   "source": [
    "cv_params = {'max_depth': [1,2,3,4], 'min_child_weight':[12,13,14,15,16] }"
   ]
  },
  {
   "cell_type": "code",
   "execution_count": 94,
   "metadata": {},
   "outputs": [],
   "source": [
    "cv_params = {'gamma': [0,0.1, 0.2, 0.3, 0.4, 0.5, 0.6,0.7,0.8,0.9,1]}"
   ]
  },
  {
   "cell_type": "code",
   "execution_count": 96,
   "metadata": {},
   "outputs": [],
   "source": [
    "cv_params = {'subsample': [0,0.1,0.2,0.3,0.4,0.5,0.6, 0.7, 0.8, 0.9,1], 'colsample_bytree': [0,0.1,0.2,0.3,0.4,0.5,0.6, 0.7, 0.8, 0.9,1]}"
   ]
  },
  {
   "cell_type": "code",
   "execution_count": 99,
   "metadata": {},
   "outputs": [],
   "source": [
    "cv_params = {'reg_alpha': [0,0.05, 0.1, 1, 2, 3], 'reg_lambda': [0,0.05, 0.1, 1, 2, 3]}"
   ]
  },
  {
   "cell_type": "code",
   "execution_count": 102,
   "metadata": {},
   "outputs": [],
   "source": [
    "cv_params = {'learning_rate': [0.01, 0.03,0.05, 0.07, 0.1, 0.2,0.3]}"
   ]
  },
  {
   "cell_type": "code",
   "execution_count": 140,
   "metadata": {},
   "outputs": [
    {
     "name": "stdout",
     "output_type": "stream",
     "text": [
      "Fitting 5 folds for each of 16 candidates, totalling 80 fits\n"
     ]
    },
    {
     "name": "stderr",
     "output_type": "stream",
     "text": [
      "[Parallel(n_jobs=-1)]: Using backend LokyBackend with 8 concurrent workers.\n",
      "[Parallel(n_jobs=-1)]: Done  34 tasks      | elapsed:   17.8s\n",
      "[Parallel(n_jobs=-1)]: Done  80 out of  80 | elapsed:  1.0min finished\n"
     ]
    },
    {
     "name": "stdout",
     "output_type": "stream",
     "text": [
      "[20:54:53] WARNING: C:/Users/Administrator/workspace/xgboost-win64_release_1.3.0/src/learner.cc:541: \n",
      "Parameters: { silent } might not be used.\n",
      "\n",
      "  This may not be accurate due to some parameters are only used in language bindings but\n",
      "  passed down to XGBoost core.  Or some parameters are not used but slip through this\n",
      "  verification. Please open an issue if you find above cases.\n",
      "\n",
      "\n",
      "Results for each iteration:{'mean_fit_time': array([ 0.81580119,  6.94364877, 16.13856087,  3.47208333,  0.30862379,\n",
      "        0.18711562,  0.2355917 ,  0.24079924,  0.23199987,  0.216576  ,\n",
      "        0.16249609,  0.14738836,  0.19117198,  0.41385665,  1.09029751,\n",
      "       19.99604449]), 'std_fit_time': array([3.65095070e-02, 7.53927448e+00, 2.25467845e-02, 6.21828952e+00,\n",
      "       5.70236947e-02, 7.14480102e-03, 1.36155568e-02, 1.12673440e-02,\n",
      "       1.25694252e-02, 2.17234510e-02, 7.70449008e-03, 6.71219328e-03,\n",
      "       1.12505890e-02, 2.85317443e-01, 9.47924242e-03, 1.48681712e+01]), 'mean_score_time': array([0.11552863, 0.08033519, 0.05766897, 0.01780005, 0.00758581,\n",
      "       0.00599971, 0.00459995, 0.00400014, 0.00680141, 0.00300012,\n",
      "       0.00346303, 0.00279989, 0.00619936, 0.04509463, 0.00519891,\n",
      "       0.16229024]), 'std_score_time': array([0.13893592, 0.02815611, 0.04493656, 0.00733321, 0.00456443,\n",
      "       0.00252954, 0.00224544, 0.00109545, 0.0057405 , 0.00063294,\n",
      "       0.00129609, 0.00040014, 0.00691103, 0.05971283, 0.00132656,\n",
      "       0.09386291]), 'param_max_depth': masked_array(data=[2, 2, 2, 2, 3, 3, 3, 3, 4, 4, 4, 4, 5, 5, 5, 5],\n",
      "             mask=[False, False, False, False, False, False, False, False,\n",
      "                   False, False, False, False, False, False, False, False],\n",
      "       fill_value='?',\n",
      "            dtype=object), 'param_min_child_weight': masked_array(data=[6, 7, 8, 9, 6, 7, 8, 9, 6, 7, 8, 9, 6, 7, 8, 9],\n",
      "             mask=[False, False, False, False, False, False, False, False,\n",
      "                   False, False, False, False, False, False, False, False],\n",
      "       fill_value='?',\n",
      "            dtype=object), 'params': [{'max_depth': 2, 'min_child_weight': 6}, {'max_depth': 2, 'min_child_weight': 7}, {'max_depth': 2, 'min_child_weight': 8}, {'max_depth': 2, 'min_child_weight': 9}, {'max_depth': 3, 'min_child_weight': 6}, {'max_depth': 3, 'min_child_weight': 7}, {'max_depth': 3, 'min_child_weight': 8}, {'max_depth': 3, 'min_child_weight': 9}, {'max_depth': 4, 'min_child_weight': 6}, {'max_depth': 4, 'min_child_weight': 7}, {'max_depth': 4, 'min_child_weight': 8}, {'max_depth': 4, 'min_child_weight': 9}, {'max_depth': 5, 'min_child_weight': 6}, {'max_depth': 5, 'min_child_weight': 7}, {'max_depth': 5, 'min_child_weight': 8}, {'max_depth': 5, 'min_child_weight': 9}], 'split0_test_score': array([0.34964105, 0.36841273, 0.31648693, 0.34916587, 0.2757221 ,\n",
      "       0.30772376, 0.31738856, 0.32941298, 0.24752157, 0.23540113,\n",
      "       0.20875119, 0.20291599, 0.12665014, 0.13099354, 0.0984111 ,\n",
      "       0.10794017]), 'split1_test_score': array([0.62230635, 0.60592133, 0.65794405, 0.66762521, 0.66512182,\n",
      "       0.69605018, 0.71683975, 0.71308384, 0.68508423, 0.72350562,\n",
      "       0.72810224, 0.69960614, 0.68590863, 0.67981751, 0.73301999,\n",
      "       0.72834813]), 'split2_test_score': array([-5.15414076, -5.61587312, -5.71397304, -5.72284318, -5.57453367,\n",
      "       -5.22194545, -5.12240251, -5.45133729, -5.41067398, -4.98455825,\n",
      "       -5.24778178, -5.09989743, -5.00508915, -4.62207865, -5.39920749,\n",
      "       -5.58505515]), 'split3_test_score': array([0.34284341, 0.37573613, 0.35246816, 0.3685454 , 0.40879376,\n",
      "       0.38063807, 0.37620319, 0.3648066 , 0.34664574, 0.29843649,\n",
      "       0.3588617 , 0.31235024, 0.28879617, 0.3224271 , 0.33541709,\n",
      "       0.32713821]), 'split4_test_score': array([-0.11873946, -0.11253436, -0.13545556, -0.11369015, -0.17131458,\n",
      "       -0.11783017, -0.1605224 , -0.06984623, -0.18613265, -0.09626241,\n",
      "       -0.12045956, -0.21140647, -0.12581891, -0.08993859, -0.03976804,\n",
      "       -0.03391487]), 'mean_test_score': array([-0.79161788, -0.87566746, -0.90450589, -0.89023937, -0.87924211,\n",
      "       -0.79107272, -0.77449868, -0.82277602, -0.86351102, -0.76469548,\n",
      "       -0.81450524, -0.8192863 , -0.80591062, -0.71575582, -0.85442547,\n",
      "       -0.8911087 ]), 'std_test_score': array([2.19422092, 2.38162859, 2.41803514, 2.42918483, 2.36325889,\n",
      "       2.23059109, 2.19187853, 2.3275412 , 2.29052625, 2.12599294,\n",
      "       2.23334376, 2.15989271, 2.11609084, 1.96943842, 2.28745781,\n",
      "       2.36104973]), 'rank_test_score': array([ 5, 12, 16, 14, 13,  4,  3,  9, 11,  2,  7,  8,  6,  1, 10, 15])}\n",
      "Best parameters：{'max_depth': 5, 'min_child_weight': 7}\n",
      "Best score:-0.71575581941669\n"
     ]
    }
   ],
   "source": [
    "model_wave_1 = xgb.XGBRegressor(booster='gbtree',objective = 'reg:squarederror', silent=False, seed=0,**init_params)\n",
    "optimized_xgb = GridSearchCV(estimator=model_wave_1, param_grid=cv_params, scoring='r2', cv=5, verbose=1, n_jobs=-1)\n",
    "optimized_xgb.fit(wave_1_X, wave_1_Y)\n",
    "evalute_result = optimized_xgb.cv_results_\n",
    "print('Results for each iteration:{0}'.format(evalute_result))\n",
    "print('Best parameters：{0}'.format(optimized_xgb.best_params_))\n",
    "print('Best score:{0}'.format(optimized_xgb.best_score_))"
   ]
  },
  {
   "cell_type": "code",
   "execution_count": 141,
   "metadata": {},
   "outputs": [],
   "source": [
    "test5 = xgb.XGBRegressor(booster='gbtree',objective = 'reg:squarederror', silent=False, seed=0,**init_params)"
   ]
  },
  {
   "cell_type": "code",
   "execution_count": 142,
   "metadata": {},
   "outputs": [
    {
     "name": "stdout",
     "output_type": "stream",
     "text": [
      "[20:55:22] WARNING: C:/Users/Administrator/workspace/xgboost-win64_release_1.3.0/src/learner.cc:541: \n",
      "Parameters: { silent } might not be used.\n",
      "\n",
      "  This may not be accurate due to some parameters are only used in language bindings but\n",
      "  passed down to XGBoost core.  Or some parameters are not used but slip through this\n",
      "  verification. Please open an issue if you find above cases.\n",
      "\n",
      "\n"
     ]
    },
    {
     "data": {
      "text/plain": [
       "XGBRegressor(base_score=0.5, booster='gbtree', colsample_bylevel=1,\n",
       "             colsample_bynode=1, colsample_bytree=0.8, gamma=0, gpu_id=-1,\n",
       "             importance_type='gain', interaction_constraints='',\n",
       "             learning_rate=0.1, max_delta_step=0, max_depth=4,\n",
       "             min_child_weight=8, missing=nan, monotone_constraints='()',\n",
       "             n_estimators=50, n_jobs=8, num_parallel_tree=1, random_state=0,\n",
       "             reg_alpha=0, reg_lambda=1, scale_pos_weight=1, seed=0,\n",
       "             silent=False, subsample=0.8, tree_method='exact',\n",
       "             validate_parameters=1, verbosity=None)"
      ]
     },
     "execution_count": 142,
     "metadata": {},
     "output_type": "execute_result"
    }
   ],
   "source": [
    "test5.fit(wave_1_X, wave_1_Y)"
   ]
  },
  {
   "cell_type": "code",
   "execution_count": 143,
   "metadata": {
    "scrolled": true
   },
   "outputs": [
    {
     "data": {
      "text/plain": [
       "0.968914085402525"
      ]
     },
     "execution_count": 143,
     "metadata": {},
     "output_type": "execute_result"
    }
   ],
   "source": [
    "r2 = r2_score(wave_1_Y,test5.predict(wave_1_X))\n",
    "r2"
   ]
  },
  {
   "cell_type": "code",
   "execution_count": 144,
   "metadata": {},
   "outputs": [
    {
     "data": {
      "text/plain": [
       "{'elapsed': 522562.2384311002,\n",
       " 'ACTV': 61437.24391699999,\n",
       " 'PM2.5': 22603.511627260003,\n",
       " 'O3': 45329.32663919998,\n",
       " 'NO2': 38017.26678839999,\n",
       " 'WSPD': 15989.127091470002,\n",
       " 'PRES': 82741.24649931598,\n",
       " 'CO': 7953.053815000001,\n",
       " 'SO2': 16462.355112999998,\n",
       " 'TEMP': 40608.8067437,\n",
       " 'HUM': 21708.22443629,\n",
       " 'PM10': 20582.233987999996}"
      ]
     },
     "execution_count": 144,
     "metadata": {},
     "output_type": "execute_result"
    }
   ],
   "source": [
    "test5.get_booster().get_score(importance_type=\"total_gain\")"
   ]
  },
  {
   "cell_type": "code",
   "execution_count": 145,
   "metadata": {},
   "outputs": [],
   "source": [
    "wave_1_p = permutation_importance(test5, wave_1_X, wave_1_Y, n_repeats=10,random_state=0)"
   ]
  },
  {
   "cell_type": "code",
   "execution_count": 146,
   "metadata": {},
   "outputs": [
    {
     "data": {
      "text/plain": [
       "{'importances_mean': array([0.01459664, 0.01034674, 0.02155244, 0.00420018, 0.03802384,\n",
       "        0.05999962, 0.01813359, 0.08278275, 0.01136667, 0.02960725,\n",
       "        0.10046059, 1.10194867]),\n",
       " 'importances_std': array([0.00185097, 0.00157019, 0.00301785, 0.00074595, 0.00341736,\n",
       "        0.00495667, 0.00213254, 0.008841  , 0.00086577, 0.00325425,\n",
       "        0.0127262 , 0.0548562 ]),\n",
       " 'importances': array([[0.01305839, 0.01255297, 0.01382362, 0.01257003, 0.01513767,\n",
       "         0.01696718, 0.01371064, 0.01686496, 0.0177608 , 0.0135201 ],\n",
       "        [0.01230897, 0.00764548, 0.01192056, 0.0106903 , 0.00778243,\n",
       "         0.01115073, 0.01024713, 0.01049358, 0.01194008, 0.00928809],\n",
       "        [0.01928349, 0.02474952, 0.01777577, 0.02266588, 0.01752513,\n",
       "         0.02041688, 0.02277262, 0.01901119, 0.02635832, 0.0249656 ],\n",
       "        [0.00300574, 0.00436775, 0.00529615, 0.00294414, 0.00466273,\n",
       "         0.00398555, 0.00396308, 0.0040201 , 0.00470148, 0.00505508],\n",
       "        [0.04011434, 0.03608433, 0.0371412 , 0.0343677 , 0.03888294,\n",
       "         0.04376033, 0.04238191, 0.0356561 , 0.03222014, 0.03962942],\n",
       "        [0.0552581 , 0.06715616, 0.06293439, 0.06025183, 0.06408886,\n",
       "         0.05495887, 0.06267524, 0.06186451, 0.06124818, 0.04956007],\n",
       "        [0.01618832, 0.01632734, 0.0153404 , 0.01762882, 0.01956632,\n",
       "         0.01716012, 0.02274524, 0.01765228, 0.01816994, 0.02055711],\n",
       "        [0.0872911 , 0.07502915, 0.08717717, 0.07039847, 0.08908675,\n",
       "         0.08755363, 0.08463681, 0.09820645, 0.06797203, 0.08047593],\n",
       "        [0.01189292, 0.01272462, 0.01144249, 0.01264895, 0.0101965 ,\n",
       "         0.01046865, 0.01070531, 0.01040825, 0.01137312, 0.01180589],\n",
       "        [0.03335972, 0.0350895 , 0.03234306, 0.02382324, 0.02995929,\n",
       "         0.0273377 , 0.02943494, 0.02985136, 0.02569891, 0.02917478],\n",
       "        [0.10310611, 0.0937871 , 0.11051646, 0.09834507, 0.09165089,\n",
       "         0.07411753, 0.10568378, 0.09463097, 0.12420988, 0.10855811],\n",
       "        [1.14392012, 1.14443104, 1.19569865, 1.15420092, 1.01853301,\n",
       "         1.06840566, 1.05551193, 1.09544537, 1.10968812, 1.03365188]])}"
      ]
     },
     "execution_count": 146,
     "metadata": {},
     "output_type": "execute_result"
    }
   ],
   "source": [
    "wave_1_p"
   ]
  },
  {
   "cell_type": "code",
   "execution_count": 147,
   "metadata": {},
   "outputs": [],
   "source": [
    "wave_1_pd = {}"
   ]
  },
  {
   "cell_type": "code",
   "execution_count": 148,
   "metadata": {},
   "outputs": [],
   "source": [
    "c= 0\n",
    "for i in labels:\n",
    "    wave_1_pd[i] = wave_1_p['importances_mean'][c]\n",
    "    c = c + 1"
   ]
  },
  {
   "cell_type": "code",
   "execution_count": 149,
   "metadata": {},
   "outputs": [
    {
     "data": {
      "text/plain": [
       "{'PM2.5': 0.01459663558696439,\n",
       " 'PM10': 0.010346736513699172,\n",
       " 'SO${_2}$': 0.02155244010900096,\n",
       " 'CO': 0.004200180411988596,\n",
       " 'NO${_2}$': 0.038023842600969714,\n",
       " 'O${_3}$': 0.05999962099640195,\n",
       " 'Relative humidity': 0.01813358886244788,\n",
       " 'Atmospheric pressure': 0.08278275056869677,\n",
       " 'Wind speed': 0.011366670221013031,\n",
       " 'Air temperature': 0.029607249736286857,\n",
       " 'Degree of activeness': 0.10046058935367026,\n",
       " 'Days elapsed': 1.1019486700347254}"
      ]
     },
     "execution_count": 149,
     "metadata": {},
     "output_type": "execute_result"
    }
   ],
   "source": [
    "wave_1_pd"
   ]
  },
  {
   "cell_type": "code",
   "execution_count": 150,
   "metadata": {},
   "outputs": [],
   "source": [
    "explainer_wave_1 = shap.TreeExplainer(test5)"
   ]
  },
  {
   "cell_type": "code",
   "execution_count": 151,
   "metadata": {},
   "outputs": [
    {
     "name": "stdout",
     "output_type": "stream",
     "text": [
      "[[ 4.8849088e-01 -1.6780691e-01 -1.0064657e+00 ... -6.4540446e-02\n",
      "  -1.6239320e+00 -2.0661695e+01]\n",
      " [ 7.0398712e-01  4.3411046e-02 -1.0824766e+00 ...  1.5418056e-01\n",
      "  -1.6095542e+00 -1.7009663e+01]\n",
      " [-2.4864685e-02 -5.3416416e-02 -1.1414230e+00 ...  2.1131316e-01\n",
      "  -1.4656769e+00 -8.5457516e+00]\n",
      " ...\n",
      " [-1.8117705e-01 -1.7433066e-02  1.1292180e+00 ... -3.6697492e-01\n",
      "  -1.9995146e+00 -2.2542503e+01]\n",
      " [-1.4790516e-01 -5.5684511e-02  5.0838298e-01 ... -4.6067309e-01\n",
      "  -1.8992915e+00 -2.1989838e+01]\n",
      " [-1.4790516e-01 -7.2095580e-03  9.4583547e-01 ...  7.1491018e-02\n",
      "  -2.2408013e+00 -2.1094809e+01]]\n"
     ]
    }
   ],
   "source": [
    "wave_1_shap_values = explainer_wave_1.shap_values(wave_1_X)\n",
    "print(wave_1_shap_values)"
   ]
  },
  {
   "cell_type": "code",
   "execution_count": 152,
   "metadata": {},
   "outputs": [
    {
     "name": "stdout",
     "output_type": "stream",
     "text": [
      "24.030714\n"
     ]
    }
   ],
   "source": [
    "y_base_wave_1 = explainer_wave_1.expected_value\n",
    "print(y_base_wave_1)\n"
   ]
  },
  {
   "cell_type": "code",
   "execution_count": 153,
   "metadata": {},
   "outputs": [
    {
     "data": {
      "image/png": "[encoded data removed]",
      "text/plain": [
       "<Figure size 576x453.6 with 2 Axes>"
      ]
     },
     "metadata": {
      "needs_background": "light"
     },
     "output_type": "display_data"
    }
   ],
   "source": [
    "shap.summary_plot(wave_1_shap_values, wave_1_X,feature_names=labels,show=False)\n",
    "\n",
    "plt.savefig(\"../../covid-proj/new_figs/segments/m3/shap_moving3_cluster1_wave_1.png\",format=\"png\",bbox_inches='tight')\n",
    "plt.savefig(\"../../covid-proj/new_figs/segments/m3/shap_moving3_cluster1_wave_1.svg\",format=\"svg\",bbox_inches='tight')"
   ]
  },
  {
   "cell_type": "code",
   "execution_count": 154,
   "metadata": {},
   "outputs": [
    {
     "data": {
      "image/png": "[encoded data removed]",
      "text/plain": [
       "<Figure size 576x453.6 with 1 Axes>"
      ]
     },
     "metadata": {
      "needs_background": "light"
     },
     "output_type": "display_data"
    }
   ],
   "source": [
    "shap.summary_plot(wave_1_shap_values, wave_1_X, feature_names=labels, plot_type=\"bar\",show=False)\n",
    "plt.savefig(\"../../covid-proj/new_figs/segments/m3/shap_moving3_cluster1_wave_1_bar.png\",format=\"png\",bbox_inches='tight')\n",
    "plt.savefig(\"../../covid-proj/new_figs/segments/m3/shap_moving3_cluster1_wave_1_bar.svg\",format=\"svg\",bbox_inches='tight')"
   ]
  },
  {
   "cell_type": "code",
   "execution_count": null,
   "metadata": {},
   "outputs": [],
   "source": []
  },
  {
   "cell_type": "markdown",
   "metadata": {},
   "source": [
    "# Cluster 1 Wave 2 Model"
   ]
  },
  {
   "cell_type": "code",
   "execution_count": 155,
   "metadata": {},
   "outputs": [],
   "source": [
    "wave_2_X = wave_2.drop(columns = ['MORB%','Case','log(Case+1)','log(MORB%+1)','city','date','Unnamed: 0', 'Unnamed: 0.1'])\n",
    "wave_2_Y = wave_2['Case'].copy()"
   ]
  },
  {
   "cell_type": "code",
   "execution_count": 156,
   "metadata": {},
   "outputs": [],
   "source": [
    "init_params = {'learning_rate': 0.1, 'n_estimators':50 ,'max_depth': 4, 'min_child_weight': 8, \n",
    "                    'subsample': 0.8, 'colsample_bytree': 0.8, 'gamma': 0, 'reg_alpha': 0, 'reg_lambda': 1}"
   ]
  },
  {
   "cell_type": "code",
   "execution_count": 73,
   "metadata": {},
   "outputs": [],
   "source": [
    "cv_params = {'n_estimators':range(50,500,50)}"
   ]
  },
  {
   "cell_type": "code",
   "execution_count": 81,
   "metadata": {},
   "outputs": [],
   "source": [
    "cv_params = {'n_estimators':[10,20,30,40,50,60,70,80,90,100]}"
   ]
  },
  {
   "cell_type": "code",
   "execution_count": 139,
   "metadata": {},
   "outputs": [],
   "source": [
    "cv_params = {'max_depth': range(2,6,1), 'min_child_weight': range(6,10,1)}"
   ]
  },
  {
   "cell_type": "code",
   "execution_count": 256,
   "metadata": {},
   "outputs": [],
   "source": [
    "cv_params = {'max_depth': [1,2,3,4], 'min_child_weight':[12,13,14,15,16] }"
   ]
  },
  {
   "cell_type": "code",
   "execution_count": 94,
   "metadata": {},
   "outputs": [],
   "source": [
    "cv_params = {'gamma': [0,0.1, 0.2, 0.3, 0.4, 0.5, 0.6,0.7,0.8,0.9,1]}"
   ]
  },
  {
   "cell_type": "code",
   "execution_count": 96,
   "metadata": {},
   "outputs": [],
   "source": [
    "cv_params = {'subsample': [0,0.1,0.2,0.3,0.4,0.5,0.6, 0.7, 0.8, 0.9,1], 'colsample_bytree': [0,0.1,0.2,0.3,0.4,0.5,0.6, 0.7, 0.8, 0.9,1]}"
   ]
  },
  {
   "cell_type": "code",
   "execution_count": 99,
   "metadata": {},
   "outputs": [],
   "source": [
    "cv_params = {'reg_alpha': [0,0.05, 0.1, 1, 2, 3], 'reg_lambda': [0,0.05, 0.1, 1, 2, 3]}"
   ]
  },
  {
   "cell_type": "code",
   "execution_count": 102,
   "metadata": {},
   "outputs": [],
   "source": [
    "cv_params = {'learning_rate': [0.01, 0.03,0.05, 0.07, 0.1, 0.2,0.3]}"
   ]
  },
  {
   "cell_type": "code",
   "execution_count": 157,
   "metadata": {},
   "outputs": [
    {
     "name": "stdout",
     "output_type": "stream",
     "text": [
      "Fitting 5 folds for each of 16 candidates, totalling 80 fits\n"
     ]
    },
    {
     "name": "stderr",
     "output_type": "stream",
     "text": [
      "[Parallel(n_jobs=-1)]: Using backend LokyBackend with 8 concurrent workers.\n",
      "[Parallel(n_jobs=-1)]: Done  34 tasks      | elapsed:   24.5s\n"
     ]
    },
    {
     "name": "stdout",
     "output_type": "stream",
     "text": [
      "[20:59:07] WARNING: C:/Users/Administrator/workspace/xgboost-win64_release_1.3.0/src/learner.cc:541: \n",
      "Parameters: { silent } might not be used.\n",
      "\n",
      "  This may not be accurate due to some parameters are only used in language bindings but\n",
      "  passed down to XGBoost core.  Or some parameters are not used but slip through this\n",
      "  verification. Please open an issue if you find above cases.\n",
      "\n",
      "\n",
      "Results for each iteration:{'mean_fit_time': array([ 8.69135733, 11.20371742, 15.14912062,  3.09566865,  0.23159924,\n",
      "        0.20119185,  0.18710308,  0.22037191,  0.30241218,  0.26220074,\n",
      "        0.22699947,  0.22827969,  1.00722132, 15.42311001, 50.18143735,\n",
      "       37.57303953]), 'std_fit_time': array([1.76726054e-01, 3.32848410e+00, 1.98695791e-01, 5.80651926e+00,\n",
      "       1.81832725e-02, 1.25978302e-02, 9.20145288e-03, 3.00416128e-02,\n",
      "       6.23737083e-03, 1.59174572e-02, 1.52448894e-02, 4.54675990e-02,\n",
      "       2.51386996e-01, 1.41104536e+01, 1.09755518e+01, 1.13452080e+01]), 'mean_score_time': array([0.17360029, 0.05600057, 0.04644327, 0.02024336, 0.0062005 ,\n",
      "       0.00849662, 0.00731406, 0.00761285, 0.0093996 , 0.00680008,\n",
      "       0.00680017, 0.02779975, 0.03155913, 0.19635348, 0.13286414,\n",
      "       0.02560029]), 'std_score_time': array([0.12021375, 0.0290657 , 0.02482726, 0.01691398, 0.00397021,\n",
      "       0.00494419, 0.00489131, 0.00390234, 0.00542605, 0.0038157 ,\n",
      "       0.00401986, 0.04613531, 0.05672246, 0.13757698, 0.10618709,\n",
      "       0.03527293]), 'param_max_depth': masked_array(data=[2, 2, 2, 2, 3, 3, 3, 3, 4, 4, 4, 4, 5, 5, 5, 5],\n",
      "             mask=[False, False, False, False, False, False, False, False,\n",
      "                   False, False, False, False, False, False, False, False],\n",
      "       fill_value='?',\n",
      "            dtype=object), 'param_min_child_weight': masked_array(data=[6, 7, 8, 9, 6, 7, 8, 9, 6, 7, 8, 9, 6, 7, 8, 9],\n",
      "             mask=[False, False, False, False, False, False, False, False,\n",
      "                   False, False, False, False, False, False, False, False],\n",
      "       fill_value='?',\n",
      "            dtype=object), 'params': [{'max_depth': 2, 'min_child_weight': 6}, {'max_depth': 2, 'min_child_weight': 7}, {'max_depth': 2, 'min_child_weight': 8}, {'max_depth': 2, 'min_child_weight': 9}, {'max_depth': 3, 'min_child_weight': 6}, {'max_depth': 3, 'min_child_weight': 7}, {'max_depth': 3, 'min_child_weight': 8}, {'max_depth': 3, 'min_child_weight': 9}, {'max_depth': 4, 'min_child_weight': 6}, {'max_depth': 4, 'min_child_weight': 7}, {'max_depth': 4, 'min_child_weight': 8}, {'max_depth': 4, 'min_child_weight': 9}, {'max_depth': 5, 'min_child_weight': 6}, {'max_depth': 5, 'min_child_weight': 7}, {'max_depth': 5, 'min_child_weight': 8}, {'max_depth': 5, 'min_child_weight': 9}], 'split0_test_score': array([-0.73305546, -0.70706234, -0.67815258, -0.63774589, -0.69089518,\n",
      "       -0.6977005 , -0.71431215, -0.76768493, -0.80892726, -0.80012003,\n",
      "       -0.65440326, -0.6843787 , -0.78214316, -0.7978893 , -0.73322928,\n",
      "       -0.76188379]), 'split1_test_score': array([-0.27765838, -0.27058266, -0.25450167, -0.2553288 , -0.12271706,\n",
      "       -0.13012904, -0.14394332, -0.21795252, -0.05863857, -0.0905256 ,\n",
      "       -0.16618365, -0.17990355, -0.0291801 , -0.1355717 , -0.12579198,\n",
      "       -0.16720352]), 'split2_test_score': array([-1.22506709, -0.91513867, -1.79110487, -1.37533312, -0.48844387,\n",
      "       -0.20076167, -0.92834613, -0.939271  , -0.15089094, -0.29866135,\n",
      "       -0.88120174, -0.6427488 , -0.42966793, -0.24853618, -0.6373733 ,\n",
      "       -1.19169775]), 'split3_test_score': array([-5.40357376, -5.19968134, -5.65897252, -5.36937864, -6.86480377,\n",
      "       -7.20409661, -7.10390878, -7.44099873, -6.32868937, -7.07117208,\n",
      "       -7.1734021 , -6.92219391, -6.20603314, -7.01103769, -6.14713768,\n",
      "       -6.91592098]), 'split4_test_score': array([-401.56902714, -375.34451078, -387.36892765, -327.27279879,\n",
      "       -391.4714106 , -367.20878318, -379.07441969, -356.08544975,\n",
      "       -506.55897625, -443.54593683, -387.95152062, -427.47338607,\n",
      "       -355.56060837, -434.41577757, -395.18054488, -320.19970648]), 'mean_test_score': array([ -81.84167637,  -76.48739516,  -79.15033186,  -66.98211705,\n",
      "        -79.9276541 ,  -75.0882942 ,  -77.59298601,  -73.09027139,\n",
      "       -102.78122448,  -90.36128318,  -79.36534227,  -87.18052221,\n",
      "        -72.60152654,  -88.52176249,  -80.56481542,  -65.8472825 ]), 'std_test_score': array([159.87413641, 149.43917893, 154.1211002 , 130.15810269,\n",
      "       155.79189476, 146.08454665, 150.76200886, 141.52229238,\n",
      "       201.90236689, 176.61139807, 154.31447415, 170.16469033,\n",
      "       141.49752649, 172.9661395 , 157.32321038, 127.19936124]), 'rank_test_score': array([12,  6,  8,  2, 10,  5,  7,  4, 16, 15,  9, 13,  3, 14, 11,  1])}\n",
      "Best parameters：{'max_depth': 5, 'min_child_weight': 9}\n",
      "Best score:-65.84728250440557\n"
     ]
    },
    {
     "name": "stderr",
     "output_type": "stream",
     "text": [
      "[Parallel(n_jobs=-1)]: Done  80 out of  80 | elapsed:  1.6min finished\n"
     ]
    }
   ],
   "source": [
    "model_wave_2 = xgb.XGBRegressor(booster='gbtree',objective = 'reg:squarederror', silent=False, seed=0,**init_params)\n",
    "optimized_xgb = GridSearchCV(estimator=model_wave_2, param_grid=cv_params, scoring='r2', cv=5, verbose=1, n_jobs=-1)\n",
    "optimized_xgb.fit(wave_2_X, wave_2_Y)\n",
    "evalute_result = optimized_xgb.cv_results_\n",
    "print('Results for each iteration:{0}'.format(evalute_result))\n",
    "print('Best parameters：{0}'.format(optimized_xgb.best_params_))\n",
    "print('Best score:{0}'.format(optimized_xgb.best_score_))"
   ]
  },
  {
   "cell_type": "code",
   "execution_count": 158,
   "metadata": {},
   "outputs": [],
   "source": [
    "test6 = xgb.XGBRegressor(booster='gbtree',objective = 'reg:squarederror', silent=False, seed=0,**init_params)"
   ]
  },
  {
   "cell_type": "code",
   "execution_count": 159,
   "metadata": {},
   "outputs": [
    {
     "name": "stdout",
     "output_type": "stream",
     "text": [
      "[20:59:27] WARNING: C:/Users/Administrator/workspace/xgboost-win64_release_1.3.0/src/learner.cc:541: \n",
      "Parameters: { silent } might not be used.\n",
      "\n",
      "  This may not be accurate due to some parameters are only used in language bindings but\n",
      "  passed down to XGBoost core.  Or some parameters are not used but slip through this\n",
      "  verification. Please open an issue if you find above cases.\n",
      "\n",
      "\n"
     ]
    },
    {
     "data": {
      "text/plain": [
       "XGBRegressor(base_score=0.5, booster='gbtree', colsample_bylevel=1,\n",
       "             colsample_bynode=1, colsample_bytree=0.8, gamma=0, gpu_id=-1,\n",
       "             importance_type='gain', interaction_constraints='',\n",
       "             learning_rate=0.1, max_delta_step=0, max_depth=4,\n",
       "             min_child_weight=8, missing=nan, monotone_constraints='()',\n",
       "             n_estimators=50, n_jobs=8, num_parallel_tree=1, random_state=0,\n",
       "             reg_alpha=0, reg_lambda=1, scale_pos_weight=1, seed=0,\n",
       "             silent=False, subsample=0.8, tree_method='exact',\n",
       "             validate_parameters=1, verbosity=None)"
      ]
     },
     "execution_count": 159,
     "metadata": {},
     "output_type": "execute_result"
    }
   ],
   "source": [
    "test6.fit(wave_2_X, wave_2_Y)"
   ]
  },
  {
   "cell_type": "code",
   "execution_count": 160,
   "metadata": {
    "scrolled": true
   },
   "outputs": [
    {
     "data": {
      "text/plain": [
       "0.9274484456845502"
      ]
     },
     "execution_count": 160,
     "metadata": {},
     "output_type": "execute_result"
    }
   ],
   "source": [
    "r2 = r2_score(wave_2_Y,test6.predict(wave_2_X))\n",
    "r2"
   ]
  },
  {
   "cell_type": "code",
   "execution_count": 161,
   "metadata": {},
   "outputs": [
    {
     "data": {
      "text/plain": [
       "{'elapsed': 34908.30310088001,\n",
       " 'SO2': 2205.4037132000003,\n",
       " 'O3': 5222.646208339999,\n",
       " 'PM2.5': 6834.757166170001,\n",
       " 'CO': 3890.3407461600004,\n",
       " 'ACTV': 16254.129374299999,\n",
       " 'WSPD': 13908.600611120006,\n",
       " 'TEMP': 2432.0821496999993,\n",
       " 'NO2': 2888.48152364,\n",
       " 'PRES': 21744.48364802,\n",
       " 'HUM': 13316.139335010002,\n",
       " 'PM10': 4972.629014459998}"
      ]
     },
     "execution_count": 161,
     "metadata": {},
     "output_type": "execute_result"
    }
   ],
   "source": [
    "test6.get_booster().get_score(importance_type=\"total_gain\")"
   ]
  },
  {
   "cell_type": "code",
   "execution_count": 162,
   "metadata": {},
   "outputs": [],
   "source": [
    "wave_2_p = permutation_importance(test6, wave_2_X, wave_2_Y, n_repeats=10,random_state=0)"
   ]
  },
  {
   "cell_type": "code",
   "execution_count": 163,
   "metadata": {},
   "outputs": [
    {
     "data": {
      "text/plain": [
       "{'importances_mean': array([0.06576444, 0.03518525, 0.01748076, 0.01001739, 0.01135545,\n",
       "        0.01762187, 0.16240559, 0.20096206, 0.367497  , 0.01320705,\n",
       "        0.09787047, 0.53167976]),\n",
       " 'importances_std': array([0.00887174, 0.00325166, 0.00305868, 0.00114491, 0.00152627,\n",
       "        0.00350341, 0.02117248, 0.0245632 , 0.02772015, 0.0020644 ,\n",
       "        0.00811304, 0.04172133]),\n",
       " 'importances': array([[0.05427439, 0.06464229, 0.0649854 , 0.07464552, 0.08361241,\n",
       "         0.0690764 , 0.05707286, 0.06276068, 0.05468613, 0.07188836],\n",
       "        [0.03024416, 0.03824017, 0.04001753, 0.0391627 , 0.03333038,\n",
       "         0.03355896, 0.03803174, 0.03195515, 0.03233003, 0.03498163],\n",
       "        [0.01670181, 0.01702537, 0.01343876, 0.01423538, 0.02321915,\n",
       "         0.01707287, 0.01820029, 0.01988982, 0.02114885, 0.0138753 ],\n",
       "        [0.0112102 , 0.00902691, 0.01095803, 0.00801164, 0.01170451,\n",
       "         0.00942036, 0.01097994, 0.00872818, 0.0100765 , 0.0100576 ],\n",
       "        [0.01116595, 0.00736328, 0.01246321, 0.0120623 , 0.01267491,\n",
       "         0.01155407, 0.01039795, 0.01221606, 0.01275299, 0.01090374],\n",
       "        [0.01740151, 0.0160446 , 0.01956777, 0.02258333, 0.01707022,\n",
       "         0.01797381, 0.00870959, 0.016952  , 0.02049652, 0.01941933],\n",
       "        [0.19287868, 0.16450162, 0.17136293, 0.16245366, 0.18501857,\n",
       "         0.14653237, 0.17237269, 0.16761548, 0.11386507, 0.1474548 ],\n",
       "        [0.20677899, 0.1816689 , 0.20386622, 0.24830267, 0.20156504,\n",
       "         0.18674506, 0.19588915, 0.15146904, 0.20650028, 0.22683528],\n",
       "        [0.36821021, 0.41404806, 0.31982201, 0.39785135, 0.34284212,\n",
       "         0.39827905, 0.35104457, 0.34578968, 0.37191772, 0.36516523],\n",
       "        [0.01500401, 0.01497246, 0.01174352, 0.01437032, 0.01468646,\n",
       "         0.01645245, 0.01225362, 0.01161847, 0.0095361 , 0.01143307],\n",
       "        [0.09401868, 0.07962907, 0.10076628, 0.09271339, 0.10151831,\n",
       "         0.10564994, 0.09682493, 0.10170331, 0.0947358 , 0.11114495],\n",
       "        [0.49609521, 0.52941959, 0.51881373, 0.48344364, 0.56287888,\n",
       "         0.56991271, 0.60191167, 0.5797946 , 0.48454218, 0.48998543]])}"
      ]
     },
     "execution_count": 163,
     "metadata": {},
     "output_type": "execute_result"
    }
   ],
   "source": [
    "wave_2_p"
   ]
  },
  {
   "cell_type": "code",
   "execution_count": 164,
   "metadata": {},
   "outputs": [],
   "source": [
    "wave_2_pd = {}"
   ]
  },
  {
   "cell_type": "code",
   "execution_count": 165,
   "metadata": {},
   "outputs": [],
   "source": [
    "c= 0\n",
    "for i in labels:\n",
    "    wave_2_pd[i] = wave_2_p['importances_mean'][c]\n",
    "    c = c + 1"
   ]
  },
  {
   "cell_type": "code",
   "execution_count": 166,
   "metadata": {},
   "outputs": [
    {
     "data": {
      "text/plain": [
       "{'PM2.5': 0.06576444378283518,\n",
       " 'PM10': 0.035185245741927475,\n",
       " 'SO${_2}$': 0.01748076154885857,\n",
       " 'CO': 0.010017388208694588,\n",
       " 'NO${_2}$': 0.011355447012176657,\n",
       " 'O${_3}$': 0.017621868338748646,\n",
       " 'Relative humidity': 0.16240558720399506,\n",
       " 'Atmospheric pressure': 0.20096206388219065,\n",
       " 'Wind speed': 0.36749699960877535,\n",
       " 'Air temperature': 0.01320704741366121,\n",
       " 'Degree of activeness': 0.09787046638669461,\n",
       " 'Days elapsed': 0.5316797648448213}"
      ]
     },
     "execution_count": 166,
     "metadata": {},
     "output_type": "execute_result"
    }
   ],
   "source": [
    "wave_2_pd"
   ]
  },
  {
   "cell_type": "code",
   "execution_count": 167,
   "metadata": {},
   "outputs": [],
   "source": [
    "explainer_wave_2 = shap.TreeExplainer(test6)"
   ]
  },
  {
   "cell_type": "code",
   "execution_count": 168,
   "metadata": {},
   "outputs": [
    {
     "name": "stdout",
     "output_type": "stream",
     "text": [
      "[[-0.21822885 -0.28231698 -0.33046064 ...  0.2820403  -0.8516057\n",
      "  -5.5684657 ]\n",
      " [ 0.4047719  -0.18623099 -0.31516883 ...  0.1083417   0.01355268\n",
      "  -5.25819   ]\n",
      " [-0.14344846 -0.06732195 -0.6400765  ...  0.08418908 -0.39768812\n",
      "  -5.164475  ]\n",
      " ...\n",
      " [-1.3520377  -0.26564148 -0.10411268 ... -0.03012823 -0.46126637\n",
      "  -0.54732645]\n",
      " [-1.6517695   0.10124022 -0.14550287 ... -0.04668614 -0.39295194\n",
      "  -0.5474715 ]\n",
      " [-1.6027313  -0.2271504  -0.10004067 ... -0.14285547 -0.23028013\n",
      "  -0.6566383 ]]\n"
     ]
    }
   ],
   "source": [
    "wave_2_shap_values = explainer_wave_2.shap_values(wave_2_X)\n",
    "print(wave_2_shap_values)"
   ]
  },
  {
   "cell_type": "code",
   "execution_count": 169,
   "metadata": {},
   "outputs": [
    {
     "name": "stdout",
     "output_type": "stream",
     "text": [
      "6.226051\n"
     ]
    }
   ],
   "source": [
    "y_base_wave_2 = explainer_wave_2.expected_value\n",
    "print(y_base_wave_2)\n"
   ]
  },
  {
   "cell_type": "code",
   "execution_count": 170,
   "metadata": {},
   "outputs": [
    {
     "data": {
      "image/png": "[encoded data removed]",
      "text/plain": [
       "<Figure size 576x453.6 with 2 Axes>"
      ]
     },
     "metadata": {
      "needs_background": "light"
     },
     "output_type": "display_data"
    }
   ],
   "source": [
    "shap.summary_plot(wave_2_shap_values, wave_2_X,feature_names=labels,show=False)\n",
    "\n",
    "plt.savefig(\"../../covid-proj/new_figs/segments/m3/shap_moving3_cluster1_wave_2.png\",format=\"png\",bbox_inches='tight')\n",
    "plt.savefig(\"../../covid-proj/new_figs/segments/m3/shap_moving3_cluster1_wave_2.svg\",format=\"svg\",bbox_inches='tight')"
   ]
  },
  {
   "cell_type": "code",
   "execution_count": 171,
   "metadata": {},
   "outputs": [
    {
     "data": {
      "image/png": "[encoded data removed]",
      "text/plain": [
       "<Figure size 576x453.6 with 1 Axes>"
      ]
     },
     "metadata": {
      "needs_background": "light"
     },
     "output_type": "display_data"
    }
   ],
   "source": [
    "shap.summary_plot(wave_2_shap_values, wave_2_X, feature_names=labels, plot_type=\"bar\",show=False)\n",
    "plt.savefig(\"../../covid-proj/new_figs/segments/m3/shap_moving3_cluster1_wave_2_bar.png\",format=\"png\",bbox_inches='tight')\n",
    "plt.savefig(\"../../covid-proj/new_figs/segments/m3/shap_moving3_cluster1_wave_2_bar.svg\",format=\"svg\",bbox_inches='tight')"
   ]
  },
  {
   "cell_type": "code",
   "execution_count": null,
   "metadata": {},
   "outputs": [],
   "source": []
  },
  {
   "cell_type": "markdown",
   "metadata": {},
   "source": [
    "# Cluster 1 Surge ALL Model"
   ]
  },
  {
   "cell_type": "code",
   "execution_count": null,
   "metadata": {},
   "outputs": [],
   "source": []
  },
  {
   "cell_type": "code",
   "execution_count": 173,
   "metadata": {},
   "outputs": [],
   "source": [
    "surge_total_X = pd.concat([surge_1_X,surge_2_X])\n",
    "surge_total_Y = pd.concat([surge_1_Y,surge_2_Y])"
   ]
  },
  {
   "cell_type": "code",
   "execution_count": 188,
   "metadata": {},
   "outputs": [],
   "source": [
    "init_params = {'learning_rate': 0.1, 'n_estimators':50 ,'max_depth': 3, 'min_child_weight': 6, \n",
    "                    'subsample': 0.8, 'colsample_bytree': 0.8, 'gamma': 0, 'reg_alpha': 0, 'reg_lambda': 1}"
   ]
  },
  {
   "cell_type": "code",
   "execution_count": 73,
   "metadata": {},
   "outputs": [],
   "source": [
    "cv_params = {'n_estimators':range(50,500,50)}"
   ]
  },
  {
   "cell_type": "code",
   "execution_count": 81,
   "metadata": {},
   "outputs": [],
   "source": [
    "cv_params = {'n_estimators':[10,20,30,40,50,60,70,80,90,100]}"
   ]
  },
  {
   "cell_type": "code",
   "execution_count": 178,
   "metadata": {},
   "outputs": [],
   "source": [
    "cv_params = {'max_depth': range(2,6,1), 'min_child_weight': range(6,10,1)}"
   ]
  },
  {
   "cell_type": "code",
   "execution_count": 256,
   "metadata": {},
   "outputs": [],
   "source": [
    "cv_params = {'max_depth': [1,2,3,4], 'min_child_weight':[12,13,14,15,16] }"
   ]
  },
  {
   "cell_type": "code",
   "execution_count": 94,
   "metadata": {},
   "outputs": [],
   "source": [
    "cv_params = {'gamma': [0,0.1, 0.2, 0.3, 0.4, 0.5, 0.6,0.7,0.8,0.9,1]}"
   ]
  },
  {
   "cell_type": "code",
   "execution_count": 96,
   "metadata": {},
   "outputs": [],
   "source": [
    "cv_params = {'subsample': [0,0.1,0.2,0.3,0.4,0.5,0.6, 0.7, 0.8, 0.9,1], 'colsample_bytree': [0,0.1,0.2,0.3,0.4,0.5,0.6, 0.7, 0.8, 0.9,1]}"
   ]
  },
  {
   "cell_type": "code",
   "execution_count": 99,
   "metadata": {},
   "outputs": [],
   "source": [
    "cv_params = {'reg_alpha': [0,0.05, 0.1, 1, 2, 3], 'reg_lambda': [0,0.05, 0.1, 1, 2, 3]}"
   ]
  },
  {
   "cell_type": "code",
   "execution_count": 102,
   "metadata": {},
   "outputs": [],
   "source": [
    "cv_params = {'learning_rate': [0.01, 0.03,0.05, 0.07, 0.1, 0.2,0.3]}"
   ]
  },
  {
   "cell_type": "code",
   "execution_count": 179,
   "metadata": {},
   "outputs": [
    {
     "name": "stdout",
     "output_type": "stream",
     "text": [
      "Fitting 5 folds for each of 16 candidates, totalling 80 fits\n"
     ]
    },
    {
     "name": "stderr",
     "output_type": "stream",
     "text": [
      "[Parallel(n_jobs=-1)]: Using backend LokyBackend with 8 concurrent workers.\n",
      "[Parallel(n_jobs=-1)]: Done  34 tasks      | elapsed:  1.1min\n"
     ]
    },
    {
     "name": "stdout",
     "output_type": "stream",
     "text": [
      "[21:06:14] WARNING: C:/Users/Administrator/workspace/xgboost-win64_release_1.3.0/src/learner.cc:541: \n",
      "Parameters: { silent } might not be used.\n",
      "\n",
      "  This may not be accurate due to some parameters are only used in language bindings but\n",
      "  passed down to XGBoost core.  Or some parameters are not used but slip through this\n",
      "  verification. Please open an issue if you find above cases.\n",
      "\n",
      "\n",
      "Results for each iteration:{'mean_fit_time': array([19.90795879, 36.02141285, 19.08530173,  6.18579206, 12.11642842,\n",
      "        5.04801049,  0.31619964,  0.33200026,  0.54007006,  1.23221469,\n",
      "       26.85734873, 46.95166459,  6.38842416, 10.58689651,  7.98908372,\n",
      "        0.42525544]), 'std_fit_time': array([7.89979499e+00, 1.20161827e+00, 1.36165423e+01, 5.08296882e-01,\n",
      "       1.64984690e+00, 3.86544951e+00, 9.39074420e-03, 1.95435185e-02,\n",
      "       3.08240151e-01, 2.50366189e-01, 2.01764353e+01, 9.98010994e-01,\n",
      "       3.01279862e+00, 2.70755075e+00, 4.18463469e+00, 4.89906737e-01]), 'mean_score_time': array([0.24471345, 0.17227826, 0.08284144, 0.09128804, 0.00719891,\n",
      "       0.01000166, 0.00860004, 0.01360025, 0.09391122, 0.07300062,\n",
      "       0.25418253, 0.06399903, 0.1097764 , 0.10680399, 0.00410137,\n",
      "       0.00359969]), 'std_score_time': array([0.01881046, 0.1315247 , 0.09229937, 0.06589915, 0.00172046,\n",
      "       0.00528969, 0.0050839 , 0.01149948, 0.11365253, 0.12661539,\n",
      "       0.08750483, 0.11800387, 0.08842199, 0.09630651, 0.00261511,\n",
      "       0.00119906]), 'param_max_depth': masked_array(data=[2, 2, 2, 2, 3, 3, 3, 3, 4, 4, 4, 4, 5, 5, 5, 5],\n",
      "             mask=[False, False, False, False, False, False, False, False,\n",
      "                   False, False, False, False, False, False, False, False],\n",
      "       fill_value='?',\n",
      "            dtype=object), 'param_min_child_weight': masked_array(data=[6, 7, 8, 9, 6, 7, 8, 9, 6, 7, 8, 9, 6, 7, 8, 9],\n",
      "             mask=[False, False, False, False, False, False, False, False,\n",
      "                   False, False, False, False, False, False, False, False],\n",
      "       fill_value='?',\n",
      "            dtype=object), 'params': [{'max_depth': 2, 'min_child_weight': 6}, {'max_depth': 2, 'min_child_weight': 7}, {'max_depth': 2, 'min_child_weight': 8}, {'max_depth': 2, 'min_child_weight': 9}, {'max_depth': 3, 'min_child_weight': 6}, {'max_depth': 3, 'min_child_weight': 7}, {'max_depth': 3, 'min_child_weight': 8}, {'max_depth': 3, 'min_child_weight': 9}, {'max_depth': 4, 'min_child_weight': 6}, {'max_depth': 4, 'min_child_weight': 7}, {'max_depth': 4, 'min_child_weight': 8}, {'max_depth': 4, 'min_child_weight': 9}, {'max_depth': 5, 'min_child_weight': 6}, {'max_depth': 5, 'min_child_weight': 7}, {'max_depth': 5, 'min_child_weight': 8}, {'max_depth': 5, 'min_child_weight': 9}], 'split0_test_score': array([0.40743537, 0.53609149, 0.53247453, 0.54445881, 0.45041479,\n",
      "       0.56062184, 0.58941151, 0.56077679, 0.43254622, 0.55217615,\n",
      "       0.53313828, 0.43803927, 0.48387079, 0.54356984, 0.5378765 ,\n",
      "       0.48350147]), 'split1_test_score': array([-0.06088932, -0.0746065 , -0.09615274, -0.13016715, -0.10915703,\n",
      "       -0.10629751, -0.09462107, -0.11618052, -0.08455998, -0.07956029,\n",
      "       -0.1074192 , -0.11104769, -0.07189844, -0.04544831, -0.07067779,\n",
      "       -0.10416739]), 'split2_test_score': array([-0.20597241, -0.20871901, -0.34773275, -0.28500045, -0.32386042,\n",
      "       -0.29008143, -0.37088091, -0.30618106, -0.16824624, -0.2079189 ,\n",
      "       -0.18256996, -0.17895255, -0.17674354, -0.24789555, -0.28702854,\n",
      "       -0.15806834]), 'split3_test_score': array([-0.2209042 , -0.17793631, -0.25427516, -0.44401403,  0.12499662,\n",
      "        0.28392361, -0.07782565,  0.14589005,  0.11213954,  0.22194973,\n",
      "        0.39233143,  0.04493989,  0.26773728,  0.10776981,  0.28306637,\n",
      "        0.16355997]), 'split4_test_score': array([-14.2612987 , -20.34209568, -19.52168018, -18.98024006,\n",
      "       -28.00324849, -27.03569862, -24.92107109, -22.61049797,\n",
      "       -17.94926657, -19.72987993, -18.32883344, -19.80893659,\n",
      "       -16.6547645 , -18.23037146, -21.75699134, -21.74756367]), 'mean_test_score': array([-2.86832586, -4.0534532 , -3.93747326, -3.85899258, -5.57217091,\n",
      "       -5.31750642, -4.97499744, -4.46523854, -3.53147741, -3.84864665,\n",
      "       -3.53867058, -3.92319153, -3.23035968, -3.57447514, -4.25875096,\n",
      "       -4.27254759]), 'std_test_score': array([ 5.70103691,  8.14882357,  7.79815192,  7.56811928, 11.2184828 ,\n",
      "       10.86314856,  9.97804344,  9.0772886 ,  7.21186017,  7.94495409,\n",
      "        7.4002462 ,  7.94575438,  6.71635741,  7.33256683,  8.75372711,\n",
      "        8.74047565]), 'rank_test_score': array([ 1, 10,  9,  7, 16, 15, 14, 13,  3,  6,  4,  8,  2,  5, 11, 12])}\n",
      "Best parameters：{'max_depth': 2, 'min_child_weight': 6}\n",
      "Best score:-2.8683258551216135\n"
     ]
    },
    {
     "name": "stderr",
     "output_type": "stream",
     "text": [
      "[Parallel(n_jobs=-1)]: Done  80 out of  80 | elapsed:  2.2min finished\n"
     ]
    }
   ],
   "source": [
    "model_surge_total = xgb.XGBRegressor(booster='gbtree',objective = 'reg:squarederror', silent=False, seed=0,**init_params)\n",
    "optimized_xgb = GridSearchCV(estimator=model_surge_total, param_grid=cv_params, scoring='r2', cv=5, verbose=1, n_jobs=-1)\n",
    "optimized_xgb.fit(surge_total_X, surge_total_Y)\n",
    "evalute_result = optimized_xgb.cv_results_\n",
    "print('Results for each iteration:{0}'.format(evalute_result))\n",
    "print('Best parameters：{0}'.format(optimized_xgb.best_params_))\n",
    "print('Best score:{0}'.format(optimized_xgb.best_score_))"
   ]
  },
  {
   "cell_type": "code",
   "execution_count": 189,
   "metadata": {},
   "outputs": [],
   "source": [
    "test7 = xgb.XGBRegressor(booster='gbtree',objective = 'reg:squarederror', silent=False, seed=0,**init_params)"
   ]
  },
  {
   "cell_type": "code",
   "execution_count": 190,
   "metadata": {},
   "outputs": [
    {
     "name": "stdout",
     "output_type": "stream",
     "text": [
      "[21:08:26] WARNING: C:/Users/Administrator/workspace/xgboost-win64_release_1.3.0/src/learner.cc:541: \n",
      "Parameters: { silent } might not be used.\n",
      "\n",
      "  This may not be accurate due to some parameters are only used in language bindings but\n",
      "  passed down to XGBoost core.  Or some parameters are not used but slip through this\n",
      "  verification. Please open an issue if you find above cases.\n",
      "\n",
      "\n"
     ]
    },
    {
     "data": {
      "text/plain": [
       "XGBRegressor(base_score=0.5, booster='gbtree', colsample_bylevel=1,\n",
       "             colsample_bynode=1, colsample_bytree=0.8, gamma=0, gpu_id=-1,\n",
       "             importance_type='gain', interaction_constraints='',\n",
       "             learning_rate=0.1, max_delta_step=0, max_depth=3,\n",
       "             min_child_weight=6, missing=nan, monotone_constraints='()',\n",
       "             n_estimators=50, n_jobs=8, num_parallel_tree=1, random_state=0,\n",
       "             reg_alpha=0, reg_lambda=1, scale_pos_weight=1, seed=0,\n",
       "             silent=False, subsample=0.8, tree_method='exact',\n",
       "             validate_parameters=1, verbosity=None)"
      ]
     },
     "execution_count": 190,
     "metadata": {},
     "output_type": "execute_result"
    }
   ],
   "source": [
    "test7.fit(surge_total_X, surge_total_Y)"
   ]
  },
  {
   "cell_type": "code",
   "execution_count": 191,
   "metadata": {
    "scrolled": true
   },
   "outputs": [
    {
     "data": {
      "text/plain": [
       "0.9524204460568767"
      ]
     },
     "execution_count": 191,
     "metadata": {},
     "output_type": "execute_result"
    }
   ],
   "source": [
    "r2 = r2_score(surge_total_Y,test7.predict(surge_total_X))\n",
    "r2"
   ]
  },
  {
   "cell_type": "code",
   "execution_count": 192,
   "metadata": {},
   "outputs": [
    {
     "data": {
      "text/plain": [
       "{'elapsed': 403500.5414112999,\n",
       " 'PM2.5': 16034.845628999998,\n",
       " 'HUM': 53342.174305882,\n",
       " 'TEMP': 44330.20710810001,\n",
       " 'ACTV': 52652.55620825998,\n",
       " 'SO2': 23057.931969999998,\n",
       " 'NO2': 18145.7807042,\n",
       " 'WSPD': 7294.167889200001,\n",
       " 'CO': 4516.3672745,\n",
       " 'PM10': 4792.8780864,\n",
       " 'O3': 14706.277998899994,\n",
       " 'PRES': 20117.596559200003}"
      ]
     },
     "execution_count": 192,
     "metadata": {},
     "output_type": "execute_result"
    }
   ],
   "source": [
    "test7.get_booster().get_score(importance_type=\"total_gain\")"
   ]
  },
  {
   "cell_type": "code",
   "execution_count": 193,
   "metadata": {},
   "outputs": [],
   "source": [
    "surge_total_p = permutation_importance(test7, surge_total_X, surge_total_Y, n_repeats=10,random_state=0)"
   ]
  },
  {
   "cell_type": "code",
   "execution_count": 194,
   "metadata": {},
   "outputs": [
    {
     "data": {
      "text/plain": [
       "{'importances_mean': array([0.00803408, 0.00416734, 0.0346317 , 0.00420322, 0.0182053 ,\n",
       "        0.0275341 , 0.0669708 , 0.03603937, 0.0148173 , 0.04874288,\n",
       "        0.08357988, 0.93367752]),\n",
       " 'importances_std': array([0.00148632, 0.00082424, 0.00605966, 0.0009829 , 0.00324749,\n",
       "        0.00308703, 0.00581696, 0.00454019, 0.00339254, 0.0079403 ,\n",
       "        0.00499042, 0.05073252]),\n",
       " 'importances': array([[0.00648372, 0.00720925, 0.01034085, 0.00679101, 0.00601721,\n",
       "         0.0086874 , 0.00708274, 0.00803565, 0.00955318, 0.01013978],\n",
       "        [0.00241309, 0.00411732, 0.00378829, 0.00406892, 0.00499292,\n",
       "         0.00481772, 0.00418992, 0.00335929, 0.00548079, 0.00444515],\n",
       "        [0.02556018, 0.04154644, 0.04057142, 0.03725369, 0.02704908,\n",
       "         0.02757659, 0.03873225, 0.03291551, 0.03251606, 0.0425958 ],\n",
       "        [0.00455255, 0.00521749, 0.00394589, 0.00266439, 0.00510036,\n",
       "         0.00482964, 0.00219211, 0.00430311, 0.00510714, 0.00411948],\n",
       "        [0.0191019 , 0.01493353, 0.01895714, 0.01123646, 0.01781041,\n",
       "         0.01962426, 0.02311552, 0.01944555, 0.02174261, 0.01608566],\n",
       "        [0.02628997, 0.03164965, 0.02819563, 0.02707056, 0.02153067,\n",
       "         0.02968608, 0.03281918, 0.02655737, 0.025333  , 0.02620886],\n",
       "        [0.07506743, 0.06188183, 0.07485416, 0.06589102, 0.0602443 ,\n",
       "         0.06486406, 0.05809753, 0.06817394, 0.07427568, 0.06635805],\n",
       "        [0.02983566, 0.03824926, 0.04004508, 0.03626092, 0.02826166,\n",
       "         0.03818977, 0.03895468, 0.04193363, 0.03836125, 0.0303018 ],\n",
       "        [0.01228005, 0.01722205, 0.01497472, 0.01642406, 0.01303028,\n",
       "         0.01432365, 0.02154256, 0.00884616, 0.01194161, 0.01758788],\n",
       "        [0.04893148, 0.06401631, 0.04624433, 0.04037849, 0.04690891,\n",
       "         0.0573096 , 0.05285822, 0.03565561, 0.05272119, 0.04240467],\n",
       "        [0.08470641, 0.0913165 , 0.0834292 , 0.07230843, 0.08250677,\n",
       "         0.08341589, 0.08572876, 0.0784724 , 0.08520295, 0.08871146],\n",
       "        [0.85419169, 0.91885129, 0.98599901, 0.86301291, 0.94685794,\n",
       "         0.91857268, 0.95767973, 0.91370383, 0.94433617, 1.03356997]])}"
      ]
     },
     "execution_count": 194,
     "metadata": {},
     "output_type": "execute_result"
    }
   ],
   "source": [
    "surge_total_p"
   ]
  },
  {
   "cell_type": "code",
   "execution_count": 195,
   "metadata": {},
   "outputs": [],
   "source": [
    "surge_total_pd = {}"
   ]
  },
  {
   "cell_type": "code",
   "execution_count": 196,
   "metadata": {},
   "outputs": [],
   "source": [
    "c= 0\n",
    "for i in labels:\n",
    "    surge_total_pd[i] = surge_total_p['importances_mean'][c]\n",
    "    c = c + 1"
   ]
  },
  {
   "cell_type": "code",
   "execution_count": 197,
   "metadata": {},
   "outputs": [
    {
     "data": {
      "text/plain": [
       "{'PM2.5': 0.008034078765339892,\n",
       " 'PM10': 0.004167341960762494,\n",
       " 'SO${_2}$': 0.03463170251369383,\n",
       " 'CO': 0.004203215082076317,\n",
       " 'NO${_2}$': 0.01820530338153198,\n",
       " 'O${_3}$': 0.027534098041619735,\n",
       " 'Relative humidity': 0.06697080057594852,\n",
       " 'Atmospheric pressure': 0.03603937036216218,\n",
       " 'Wind speed': 0.014817300701984493,\n",
       " 'Air temperature': 0.04874288276502139,\n",
       " 'Degree of activeness': 0.08357987754942678,\n",
       " 'Days elapsed': 0.9336775218522793}"
      ]
     },
     "execution_count": 197,
     "metadata": {},
     "output_type": "execute_result"
    }
   ],
   "source": [
    "surge_total_pd"
   ]
  },
  {
   "cell_type": "code",
   "execution_count": 198,
   "metadata": {},
   "outputs": [],
   "source": [
    "explainer_surge_total = shap.TreeExplainer(test7)"
   ]
  },
  {
   "cell_type": "code",
   "execution_count": 199,
   "metadata": {},
   "outputs": [
    {
     "name": "stdout",
     "output_type": "stream",
     "text": [
      "[[-0.3389194   0.08933178 -2.5333269  ...  1.1440448  -1.372765\n",
      "  -9.088208  ]\n",
      " [-0.19511247 -0.01257077 -2.5618901  ...  1.1456829  -1.3738649\n",
      "  -6.6484737 ]\n",
      " [-0.2304389   0.05397711 -2.5618901  ...  1.194406   -1.1702061\n",
      "  -0.4866408 ]\n",
      " ...\n",
      " [-0.51977164 -0.02324395  1.5327578  ... -0.52685016 -2.5455542\n",
      "  -1.8081734 ]\n",
      " [-0.51977164 -0.0091107   1.5327578  ... -0.52685016 -2.517861\n",
      "   0.7567604 ]\n",
      " [-0.21068119  0.09588332  1.3836057  ... -0.52685016 -2.517861\n",
      "   0.41323984]]\n"
     ]
    }
   ],
   "source": [
    "surge_total_shap_values = explainer_surge_total.shap_values(surge_total_X)\n",
    "print(surge_total_shap_values)"
   ]
  },
  {
   "cell_type": "code",
   "execution_count": 200,
   "metadata": {},
   "outputs": [
    {
     "name": "stdout",
     "output_type": "stream",
     "text": [
      "15.614737\n"
     ]
    }
   ],
   "source": [
    "y_base_surge_total = explainer_surge_total.expected_value\n",
    "print(y_base_surge_total)\n"
   ]
  },
  {
   "cell_type": "code",
   "execution_count": 201,
   "metadata": {},
   "outputs": [
    {
     "data": {
      "image/png": "[encoded data removed]",
      "text/plain": [
       "<Figure size 576x453.6 with 2 Axes>"
      ]
     },
     "metadata": {
      "needs_background": "light"
     },
     "output_type": "display_data"
    }
   ],
   "source": [
    "shap.summary_plot(surge_total_shap_values, surge_total_X,feature_names=labels,show=False)\n",
    "\n",
    "plt.savefig(\"../../covid-proj/new_figs/segments/m3/shap_moving3_cluster1_surge_total.png\",format=\"png\",bbox_inches='tight')\n",
    "plt.savefig(\"../../covid-proj/new_figs/segments/m3/shap_moving3_cluster1_surge_total.svg\",format=\"svg\",bbox_inches='tight')"
   ]
  },
  {
   "cell_type": "code",
   "execution_count": 202,
   "metadata": {},
   "outputs": [
    {
     "data": {
      "image/png": "[encoded data removed]",
      "text/plain": [
       "<Figure size 576x453.6 with 1 Axes>"
      ]
     },
     "metadata": {
      "needs_background": "light"
     },
     "output_type": "display_data"
    }
   ],
   "source": [
    "shap.summary_plot(surge_total_shap_values, surge_total_X, feature_names=labels, plot_type=\"bar\",show=False)\n",
    "plt.savefig(\"../../covid-proj/new_figs/segments/m3/shap_moving3_cluster1_surge_total_bar.png\",format=\"png\",bbox_inches='tight')\n",
    "plt.savefig(\"../../covid-proj/new_figs/segments/m3/shap_moving3_cluster1_surge_total_bar.svg\",format=\"svg\",bbox_inches='tight')"
   ]
  },
  {
   "cell_type": "code",
   "execution_count": null,
   "metadata": {},
   "outputs": [],
   "source": []
  },
  {
   "cell_type": "markdown",
   "metadata": {},
   "source": [
    "# Cluster 1 drop ALL Model"
   ]
  },
  {
   "cell_type": "code",
   "execution_count": null,
   "metadata": {},
   "outputs": [],
   "source": []
  },
  {
   "cell_type": "code",
   "execution_count": 203,
   "metadata": {},
   "outputs": [],
   "source": [
    "drop_total_X = pd.concat([drop_1_X,drop_2_X])\n",
    "drop_total_Y = pd.concat([drop_1_Y,drop_2_Y])"
   ]
  },
  {
   "cell_type": "code",
   "execution_count": 211,
   "metadata": {},
   "outputs": [],
   "source": [
    "init_params = {'learning_rate': 0.1, 'n_estimators':50 ,'max_depth': 2, 'min_child_weight': 9, \n",
    "                    'subsample': 0.8, 'colsample_bytree': 0.8, 'gamma': 0, 'reg_alpha': 0, 'reg_lambda': 1}"
   ]
  },
  {
   "cell_type": "code",
   "execution_count": 73,
   "metadata": {},
   "outputs": [],
   "source": [
    "cv_params = {'n_estimators':range(50,500,50)}"
   ]
  },
  {
   "cell_type": "code",
   "execution_count": 81,
   "metadata": {},
   "outputs": [],
   "source": [
    "cv_params = {'n_estimators':[10,20,30,40,50,60,70,80,90,100]}"
   ]
  },
  {
   "cell_type": "code",
   "execution_count": 205,
   "metadata": {},
   "outputs": [],
   "source": [
    "cv_params = {'max_depth': range(2,6,1), 'min_child_weight': range(6,10,1)}"
   ]
  },
  {
   "cell_type": "code",
   "execution_count": 256,
   "metadata": {},
   "outputs": [],
   "source": [
    "cv_params = {'max_depth': [1,2,3,4], 'min_child_weight':[12,13,14,15,16] }"
   ]
  },
  {
   "cell_type": "code",
   "execution_count": 94,
   "metadata": {},
   "outputs": [],
   "source": [
    "cv_params = {'gamma': [0,0.1, 0.2, 0.3, 0.4, 0.5, 0.6,0.7,0.8,0.9,1]}"
   ]
  },
  {
   "cell_type": "code",
   "execution_count": 96,
   "metadata": {},
   "outputs": [],
   "source": [
    "cv_params = {'subsample': [0,0.1,0.2,0.3,0.4,0.5,0.6, 0.7, 0.8, 0.9,1], 'colsample_bytree': [0,0.1,0.2,0.3,0.4,0.5,0.6, 0.7, 0.8, 0.9,1]}"
   ]
  },
  {
   "cell_type": "code",
   "execution_count": 99,
   "metadata": {},
   "outputs": [],
   "source": [
    "cv_params = {'reg_alpha': [0,0.05, 0.1, 1, 2, 3], 'reg_lambda': [0,0.05, 0.1, 1, 2, 3]}"
   ]
  },
  {
   "cell_type": "code",
   "execution_count": 102,
   "metadata": {},
   "outputs": [],
   "source": [
    "cv_params = {'learning_rate': [0.01, 0.03,0.05, 0.07, 0.1, 0.2,0.3]}"
   ]
  },
  {
   "cell_type": "code",
   "execution_count": 206,
   "metadata": {},
   "outputs": [
    {
     "name": "stdout",
     "output_type": "stream",
     "text": [
      "Fitting 5 folds for each of 16 candidates, totalling 80 fits\n"
     ]
    },
    {
     "name": "stderr",
     "output_type": "stream",
     "text": [
      "[Parallel(n_jobs=-1)]: Using backend LokyBackend with 8 concurrent workers.\n",
      "[Parallel(n_jobs=-1)]: Done  34 tasks      | elapsed:    9.1s\n"
     ]
    },
    {
     "name": "stdout",
     "output_type": "stream",
     "text": [
      "[21:12:00] WARNING: C:/Users/Administrator/workspace/xgboost-win64_release_1.3.0/src/learner.cc:541: \n",
      "Parameters: { silent } might not be used.\n",
      "\n",
      "  This may not be accurate due to some parameters are only used in language bindings but\n",
      "  passed down to XGBoost core.  Or some parameters are not used but slip through this\n",
      "  verification. Please open an issue if you find above cases.\n",
      "\n",
      "\n",
      "Results for each iteration:{'mean_fit_time': array([0.9193965 , 0.62098927, 0.66511316, 0.25642982, 0.28951674,\n",
      "       0.30928998, 0.32401886, 0.29457297, 0.46312847, 0.40680032,\n",
      "       0.34079924, 0.31255279, 0.36845503, 0.3551055 , 0.35429049,\n",
      "       0.2947474 ]), 'std_fit_time': array([0.46454475, 0.11206667, 0.03751016, 0.1060048 , 0.03581735,\n",
      "       0.01410245, 0.00767763, 0.01796233, 0.01933016, 0.06041211,\n",
      "       0.00630367, 0.01618754, 0.01246836, 0.00719812, 0.01235714,\n",
      "       0.03237885]), 'mean_score_time': array([0.02777157, 0.03903542, 0.01160011, 0.00776634, 0.00580006,\n",
      "       0.00879865, 0.00960088, 0.01120157, 0.00719848, 0.00619922,\n",
      "       0.00440292, 0.00530286, 0.00940127, 0.01550188, 0.01035066,\n",
      "       0.0065989 ]), 'std_score_time': array([0.01791811, 0.02663281, 0.00634392, 0.00358038, 0.00160096,\n",
      "       0.00365538, 0.00688702, 0.00858742, 0.00507572, 0.00354369,\n",
      "       0.00174302, 0.00319479, 0.0032617 , 0.00753618, 0.00576396,\n",
      "       0.00467685]), 'param_max_depth': masked_array(data=[2, 2, 2, 2, 3, 3, 3, 3, 4, 4, 4, 4, 5, 5, 5, 5],\n",
      "             mask=[False, False, False, False, False, False, False, False,\n",
      "                   False, False, False, False, False, False, False, False],\n",
      "       fill_value='?',\n",
      "            dtype=object), 'param_min_child_weight': masked_array(data=[6, 7, 8, 9, 6, 7, 8, 9, 6, 7, 8, 9, 6, 7, 8, 9],\n",
      "             mask=[False, False, False, False, False, False, False, False,\n",
      "                   False, False, False, False, False, False, False, False],\n",
      "       fill_value='?',\n",
      "            dtype=object), 'params': [{'max_depth': 2, 'min_child_weight': 6}, {'max_depth': 2, 'min_child_weight': 7}, {'max_depth': 2, 'min_child_weight': 8}, {'max_depth': 2, 'min_child_weight': 9}, {'max_depth': 3, 'min_child_weight': 6}, {'max_depth': 3, 'min_child_weight': 7}, {'max_depth': 3, 'min_child_weight': 8}, {'max_depth': 3, 'min_child_weight': 9}, {'max_depth': 4, 'min_child_weight': 6}, {'max_depth': 4, 'min_child_weight': 7}, {'max_depth': 4, 'min_child_weight': 8}, {'max_depth': 4, 'min_child_weight': 9}, {'max_depth': 5, 'min_child_weight': 6}, {'max_depth': 5, 'min_child_weight': 7}, {'max_depth': 5, 'min_child_weight': 8}, {'max_depth': 5, 'min_child_weight': 9}], 'split0_test_score': array([0.51033351, 0.51582694, 0.51367179, 0.55657378, 0.37135406,\n",
      "       0.46645174, 0.4769411 , 0.43387023, 0.36046254, 0.4051286 ,\n",
      "       0.40473063, 0.38213367, 0.3520598 , 0.43343337, 0.3991792 ,\n",
      "       0.37314434]), 'split1_test_score': array([-0.07724147, -0.03104228, -0.14618022, -0.09402414, -0.19323597,\n",
      "       -0.26620065, -0.22780451, -0.11104601, -0.16936312, -0.30205928,\n",
      "       -0.26533158, -0.17970656, -0.18877082, -0.26924107, -0.27145785,\n",
      "       -0.15680049]), 'split2_test_score': array([-0.04158304, -0.07115424, -0.08212473, -0.0448562 , -0.12850179,\n",
      "       -0.12714817, -0.11828895, -0.03453063, -0.08430305, -0.12738612,\n",
      "       -0.13410028, -0.07199038, -0.08262472, -0.08732533, -0.06175433,\n",
      "       -0.03569477]), 'split3_test_score': array([-1.05601674, -1.10875738, -1.0976353 , -1.07132345, -1.0565489 ,\n",
      "       -1.05043702, -1.09071145, -1.05281342, -1.04716761, -1.06417334,\n",
      "       -1.06057889, -1.02908984, -1.06547012, -1.03579165, -1.03496976,\n",
      "       -1.02376469]), 'split4_test_score': array([-109.38497195, -110.5093554 , -109.42910509, -102.92269949,\n",
      "       -142.37977483, -142.7490159 , -133.32086891, -133.73438292,\n",
      "       -148.99836702, -133.43643879, -127.73149741, -104.13347345,\n",
      "       -119.90365001, -131.55671568, -137.70606691, -118.35099565]), 'mean_test_score': array([-22.00989594, -22.24089647, -22.04827471, -20.7152659 ,\n",
      "       -28.67734148, -28.74527   , -26.85614654, -26.89978055,\n",
      "       -29.98774765, -26.90498579, -25.75735551, -21.00642531,\n",
      "       -24.17769117, -26.50312807, -27.73501393, -23.83882225]), 'std_test_score': array([43.69045159, 44.13735764, 43.69346342, 41.10702914, 56.85307161,\n",
      "       57.00392413, 53.23471436, 53.41948032, 59.50705943, 53.26780633,\n",
      "       50.9892256 , 41.56602772, 47.8651923 , 52.5289088 , 54.98747836,\n",
      "       47.25827786]), 'rank_test_score': array([ 3,  5,  4,  1, 14, 15, 10, 11, 16, 12,  8,  2,  7,  9, 13,  6])}\n",
      "Best parameters：{'max_depth': 2, 'min_child_weight': 9}\n",
      "Best score:-20.715265901263326\n"
     ]
    },
    {
     "name": "stderr",
     "output_type": "stream",
     "text": [
      "[Parallel(n_jobs=-1)]: Done  80 out of  80 | elapsed:   11.1s finished\n"
     ]
    }
   ],
   "source": [
    "model_drop_total = xgb.XGBRegressor(booster='gbtree',objective = 'reg:squarederror', silent=False, seed=0,**init_params)\n",
    "optimized_xgb = GridSearchCV(estimator=model_drop_total, param_grid=cv_params, scoring='r2', cv=5, verbose=1, n_jobs=-1)\n",
    "optimized_xgb.fit(drop_total_X, drop_total_Y)\n",
    "evalute_result = optimized_xgb.cv_results_\n",
    "print('Results for each iteration:{0}'.format(evalute_result))\n",
    "print('Best parameters：{0}'.format(optimized_xgb.best_params_))\n",
    "print('Best score:{0}'.format(optimized_xgb.best_score_))"
   ]
  },
  {
   "cell_type": "code",
   "execution_count": 212,
   "metadata": {},
   "outputs": [],
   "source": [
    "test8 = xgb.XGBRegressor(booster='gbtree',objective = 'reg:squarederror', silent=False, seed=0,**init_params)"
   ]
  },
  {
   "cell_type": "code",
   "execution_count": 213,
   "metadata": {},
   "outputs": [
    {
     "name": "stdout",
     "output_type": "stream",
     "text": [
      "[21:14:05] WARNING: C:/Users/Administrator/workspace/xgboost-win64_release_1.3.0/src/learner.cc:541: \n",
      "Parameters: { silent } might not be used.\n",
      "\n",
      "  This may not be accurate due to some parameters are only used in language bindings but\n",
      "  passed down to XGBoost core.  Or some parameters are not used but slip through this\n",
      "  verification. Please open an issue if you find above cases.\n",
      "\n",
      "\n"
     ]
    },
    {
     "data": {
      "text/plain": [
       "XGBRegressor(base_score=0.5, booster='gbtree', colsample_bylevel=1,\n",
       "             colsample_bynode=1, colsample_bytree=0.8, gamma=0, gpu_id=-1,\n",
       "             importance_type='gain', interaction_constraints='',\n",
       "             learning_rate=0.1, max_delta_step=0, max_depth=2,\n",
       "             min_child_weight=9, missing=nan, monotone_constraints='()',\n",
       "             n_estimators=50, n_jobs=8, num_parallel_tree=1, random_state=0,\n",
       "             reg_alpha=0, reg_lambda=1, scale_pos_weight=1, seed=0,\n",
       "             silent=False, subsample=0.8, tree_method='exact',\n",
       "             validate_parameters=1, verbosity=None)"
      ]
     },
     "execution_count": 213,
     "metadata": {},
     "output_type": "execute_result"
    }
   ],
   "source": [
    "test8.fit(drop_total_X, drop_total_Y)"
   ]
  },
  {
   "cell_type": "code",
   "execution_count": 214,
   "metadata": {
    "scrolled": true
   },
   "outputs": [
    {
     "data": {
      "text/plain": [
       "0.7917949641732642"
      ]
     },
     "execution_count": 214,
     "metadata": {},
     "output_type": "execute_result"
    }
   ],
   "source": [
    "r2 = r2_score(drop_total_Y,test8.predict(drop_total_X))\n",
    "r2"
   ]
  },
  {
   "cell_type": "code",
   "execution_count": 215,
   "metadata": {},
   "outputs": [
    {
     "data": {
      "text/plain": [
       "{'elapsed': 244598.04993700003,\n",
       " 'ACTV': 68137.70821100002,\n",
       " 'WSPD': 13850.795337999998,\n",
       " 'O3': 31486.741517,\n",
       " 'PM2.5': 13390.040949,\n",
       " 'NO2': 12545.657925,\n",
       " 'SO2': 14337.454247999998,\n",
       " 'TEMP': 13033.591429999999,\n",
       " 'PRES': 27585.986355,\n",
       " 'CO': 2183.086788,\n",
       " 'HUM': 1251.756959,\n",
       " 'PM10': 1998.5270679999999}"
      ]
     },
     "execution_count": 215,
     "metadata": {},
     "output_type": "execute_result"
    }
   ],
   "source": [
    "test8.get_booster().get_score(importance_type=\"total_gain\")"
   ]
  },
  {
   "cell_type": "code",
   "execution_count": 216,
   "metadata": {},
   "outputs": [],
   "source": [
    "drop_total_p = permutation_importance(test8, drop_total_X, drop_total_Y, n_repeats=10,random_state=0)"
   ]
  },
  {
   "cell_type": "code",
   "execution_count": 217,
   "metadata": {},
   "outputs": [
    {
     "data": {
      "text/plain": [
       "{'importances_mean': array([0.02880169, 0.00227255, 0.02926863, 0.00307471, 0.02185583,\n",
       "        0.06106068, 0.00323585, 0.07794962, 0.0285337 , 0.02717974,\n",
       "        0.10439074, 0.83959152]),\n",
       " 'importances_std': array([0.00418652, 0.0006719 , 0.0041449 , 0.00121254, 0.00294275,\n",
       "        0.00689001, 0.0004913 , 0.00537544, 0.0041412 , 0.00305102,\n",
       "        0.00557536, 0.033809  ]),\n",
       " 'importances': array([[3.67627267e-02, 2.93420663e-02, 3.27202685e-02, 2.24887961e-02,\n",
       "         3.01341452e-02, 3.23449712e-02, 2.58036411e-02, 2.78653663e-02,\n",
       "         2.33596225e-02, 2.71953018e-02],\n",
       "        [1.79050416e-03, 2.38050808e-03, 2.88938985e-03, 3.78161442e-03,\n",
       "         1.58523361e-03, 1.70356529e-03, 1.40060468e-03, 2.47158652e-03,\n",
       "         2.33940693e-03, 2.38310061e-03],\n",
       "        [3.20474994e-02, 2.81086764e-02, 2.39799111e-02, 3.43951290e-02,\n",
       "         2.51480317e-02, 2.98691129e-02, 2.81629498e-02, 2.45323462e-02,\n",
       "         3.74781011e-02, 2.89645861e-02],\n",
       "        [3.84505918e-03, 2.77100161e-03, 3.82901214e-03, 6.51231338e-04,\n",
       "         4.27878220e-03, 1.21655545e-03, 2.71310880e-03, 4.44735626e-03,\n",
       "         3.11039998e-03, 3.88457536e-03],\n",
       "        [2.23946540e-02, 2.14378019e-02, 2.27347320e-02, 2.35023024e-02,\n",
       "         2.16610242e-02, 1.49302336e-02, 2.12315886e-02, 2.51861758e-02,\n",
       "         2.60264577e-02, 1.94532856e-02],\n",
       "        [5.89691430e-02, 5.85530071e-02, 6.22987704e-02, 4.98486319e-02,\n",
       "         5.45338481e-02, 5.58668473e-02, 6.63307890e-02, 7.49955416e-02,\n",
       "         6.14301093e-02, 6.77801175e-02],\n",
       "        [2.61537739e-03, 3.37148698e-03, 3.54687188e-03, 3.79016586e-03,\n",
       "         3.36064990e-03, 3.61116832e-03, 2.23827421e-03, 2.81302578e-03,\n",
       "         3.25048022e-03, 3.76096669e-03],\n",
       "        [7.45369377e-02, 8.56624653e-02, 7.85966810e-02, 6.78843969e-02,\n",
       "         8.00036077e-02, 8.46952322e-02, 7.67029144e-02, 7.60285998e-02,\n",
       "         7.21703143e-02, 8.32150140e-02],\n",
       "        [3.26049829e-02, 2.76257997e-02, 2.63823805e-02, 2.02022144e-02,\n",
       "         2.98288882e-02, 2.77660214e-02, 2.32326001e-02, 3.17795772e-02,\n",
       "         3.30399274e-02, 3.28746403e-02],\n",
       "        [2.28177357e-02, 3.10781787e-02, 3.04943769e-02, 2.59026824e-02,\n",
       "         2.90918870e-02, 3.17155127e-02, 2.67022059e-02, 2.33979154e-02,\n",
       "         2.48477650e-02, 2.57491820e-02],\n",
       "        [9.78539501e-02, 1.04798415e-01, 1.11441447e-01, 1.09430292e-01,\n",
       "         1.00518994e-01, 1.09472237e-01, 1.02024235e-01, 1.00511930e-01,\n",
       "         1.12019759e-01, 9.58361470e-02],\n",
       "        [8.36484579e-01, 8.24811811e-01, 7.92997138e-01, 8.73953533e-01,\n",
       "         8.78507690e-01, 8.55932103e-01, 8.70534366e-01, 7.72670227e-01,\n",
       "         8.61959538e-01, 8.28064202e-01]])}"
      ]
     },
     "execution_count": 217,
     "metadata": {},
     "output_type": "execute_result"
    }
   ],
   "source": [
    "drop_total_p"
   ]
  },
  {
   "cell_type": "code",
   "execution_count": 218,
   "metadata": {},
   "outputs": [],
   "source": [
    "drop_total_pd = {}"
   ]
  },
  {
   "cell_type": "code",
   "execution_count": 219,
   "metadata": {},
   "outputs": [],
   "source": [
    "c= 0\n",
    "for i in labels:\n",
    "    drop_total_pd[i] = drop_total_p['importances_mean'][c]\n",
    "    c = c + 1"
   ]
  },
  {
   "cell_type": "code",
   "execution_count": 220,
   "metadata": {},
   "outputs": [
    {
     "data": {
      "text/plain": [
       "{'PM2.5': 0.028801690564330563,\n",
       " 'PM10': 0.0022725514132564406,\n",
       " 'SO${_2}$': 0.029268634386721015,\n",
       " 'CO': 0.0030747082326792797,\n",
       " 'NO${_2}$': 0.02185582559177358,\n",
       " 'O${_3}$': 0.06106068052041926,\n",
       " 'Relative humidity': 0.0032358467234335996,\n",
       " 'Atmospheric pressure': 0.0779496163241695,\n",
       " 'Wind speed': 0.028533703216573468,\n",
       " 'Air temperature': 0.02717974416712815,\n",
       " 'Degree of activeness': 0.10439074074108637,\n",
       " 'Days elapsed': 0.8395915187267573}"
      ]
     },
     "execution_count": 220,
     "metadata": {},
     "output_type": "execute_result"
    }
   ],
   "source": [
    "drop_total_pd"
   ]
  },
  {
   "cell_type": "code",
   "execution_count": 221,
   "metadata": {},
   "outputs": [],
   "source": [
    "explainer_drop_total = shap.TreeExplainer(test8)"
   ]
  },
  {
   "cell_type": "code",
   "execution_count": 222,
   "metadata": {},
   "outputs": [
    {
     "name": "stdout",
     "output_type": "stream",
     "text": [
      "[[-0.6700194   0.38385436  2.0044453  ... -0.92694855  1.342753\n",
      "  29.884523  ]\n",
      " [-0.71130764  0.33760458  0.9861542  ... -0.92694855  1.3965601\n",
      "  29.884523  ]\n",
      " [-0.31889102 -0.38103494 -0.05131387 ... -0.98306745  1.3154634\n",
      "  28.345293  ]\n",
      " ...\n",
      " [-1.047292   -0.16990945  1.2775269  ... -0.3009351  -3.127158\n",
      "  -6.2467794 ]\n",
      " [-1.047292   -0.28823483  1.2775269  ... -0.3009351  -2.1161947\n",
      "  -5.731079  ]\n",
      " [-1.2198896  -0.16990945  1.2962941  ... -0.1969708  -1.9435971\n",
      "  -5.5712757 ]]\n"
     ]
    }
   ],
   "source": [
    "drop_total_shap_values = explainer_drop_total.shap_values(drop_total_X)\n",
    "print(drop_total_shap_values)"
   ]
  },
  {
   "cell_type": "code",
   "execution_count": 223,
   "metadata": {},
   "outputs": [
    {
     "name": "stdout",
     "output_type": "stream",
     "text": [
      "15.034451\n"
     ]
    }
   ],
   "source": [
    "y_base_drop_total = explainer_drop_total.expected_value\n",
    "print(y_base_drop_total)\n"
   ]
  },
  {
   "cell_type": "code",
   "execution_count": 224,
   "metadata": {},
   "outputs": [
    {
     "data": {
      "image/png": "[encoded data removed]",
      "text/plain": [
       "<Figure size 576x453.6 with 2 Axes>"
      ]
     },
     "metadata": {
      "needs_background": "light"
     },
     "output_type": "display_data"
    }
   ],
   "source": [
    "shap.summary_plot(drop_total_shap_values, drop_total_X,feature_names=labels,show=False)\n",
    "\n",
    "plt.savefig(\"../../covid-proj/new_figs/segments/m3/shap_moving3_cluster1_drop_total.png\",format=\"png\",bbox_inches='tight')\n",
    "plt.savefig(\"../../covid-proj/new_figs/segments/m3/shap_moving3_cluster1_drop_total.svg\",format=\"svg\",bbox_inches='tight')"
   ]
  },
  {
   "cell_type": "code",
   "execution_count": 225,
   "metadata": {},
   "outputs": [
    {
     "data": {
      "image/png": "[encoded data removed]",
      "text/plain": [
       "<Figure size 576x453.6 with 1 Axes>"
      ]
     },
     "metadata": {
      "needs_background": "light"
     },
     "output_type": "display_data"
    }
   ],
   "source": [
    "shap.summary_plot(drop_total_shap_values, drop_total_X, feature_names=labels, plot_type=\"bar\",show=False)\n",
    "plt.savefig(\"../../covid-proj/new_figs/segments/m3/shap_moving3_cluster1_drop_total_bar.png\",format=\"png\",bbox_inches='tight')\n",
    "plt.savefig(\"../../covid-proj/new_figs/segments/m3/shap_moving3_cluster1_drop_total_bar.svg\",format=\"svg\",bbox_inches='tight')"
   ]
  },
  {
   "cell_type": "code",
   "execution_count": null,
   "metadata": {},
   "outputs": [],
   "source": []
  }
 ],
 "metadata": {
  "extensions": {
   "jupyter_dashboards": {
    "activeView": "report_default",
    "version": 1,
    "views": {
     "grid_default": {
      "name": "grid",
      "type": "grid"
     },
     "report_default": {
      "name": "report",
      "type": "report"
     }
    }
   }
  },
  "kernelspec": {
   "display_name": "Python 3",
   "language": "python",
   "name": "python3"
  },
  "language_info": {
   "codemirror_mode": {
    "name": "ipython",
    "version": 3
   },
   "file_extension": ".py",
   "mimetype": "text/x-python",
   "name": "python",
   "nbconvert_exporter": "python",
   "pygments_lexer": "ipython3",
   "version": "3.7.9"
  }
 },
 "nbformat": 4,
 "nbformat_minor": 4
}
